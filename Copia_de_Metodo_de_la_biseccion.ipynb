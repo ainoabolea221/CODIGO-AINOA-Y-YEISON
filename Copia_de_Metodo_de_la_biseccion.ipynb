{
  "nbformat": 4,
  "nbformat_minor": 0,
  "metadata": {
    "colab": {
      "provenance": [],
      "include_colab_link": true
    },
    "kernelspec": {
      "name": "python3",
      "display_name": "Python 3"
    },
    "language_info": {
      "name": "python"
    }
  },
  "cells": [
    {
      "cell_type": "markdown",
      "metadata": {
        "id": "view-in-github",
        "colab_type": "text"
      },
      "source": [
        "<a href=\"https://colab.research.google.com/github/ainoabolea221/CODIGO-AINOA-Y-YEISON/blob/main/Copia_de_Metodo_de_la_biseccion.ipynb\" target=\"_parent\"><img src=\"https://colab.research.google.com/assets/colab-badge.svg\" alt=\"Open In Colab\"/></a>"
      ]
    },
    {
      "cell_type": "code",
      "execution_count": 44,
      "metadata": {
        "colab": {
          "base_uri": "https://localhost:8080/"
        },
        "id": "EA_C0PcnbQSD",
        "outputId": "8ec7ca26-9f12-4484-bee5-4051d054e477"
      },
      "outputs": [
        {
          "output_type": "stream",
          "name": "stdout",
          "text": [
            "[1.75, -0.046, 0.00020000000000000017, 7.99999999999998e-05, -7.333333333333297e-06, 3.7599999999999654e-07]\n",
            "El valor del polinomio en x = 30 es 0.9159999999999976 .\n"
          ]
        }
      ],
      "source": [
        "#Cálculo de las diferencias divididas de una función f\n",
        "\n",
        "#Estas cantidades representas los coeficientes del polinomio\n",
        "#de interpolación en la forma de Newton\n",
        "\n",
        "import numpy as np\n",
        "\n",
        "#x = (0,5,10,15,20,25)\n",
        "x = (0,5,10,15,20,25)\n",
        "#y = (1.75,1.52,1.30,1.15,1.02,0.891)\n",
        "y = (1.75,1.52,1.30,1.15,1.02,0.891)\n",
        "\n",
        "n = 5 #Orden del polinomio de interpolación\n",
        "\n",
        "a = list(np.zeros(n+1))\n",
        "\n",
        "for i in range(0,n+1):\n",
        "  a[i] = y[i]\n",
        "\n",
        "for j in range(1,n+1):\n",
        "  for i in range(n,j-1,-1):\n",
        "    a[i] = (a[i]-a[i-1])/(x[i]-x[i-j])\n",
        "\n",
        "print(a)\n",
        "#Evaluación de un polinomio en la forma de Newton anidada\n",
        "\n",
        "#Valor a evaluar\n",
        "t = 30\n",
        "\n",
        "p = a[n]\n",
        "for i in range(n-1,-1,-1):\n",
        "  p = p*(t-x[i]) + a[i]\n",
        "\n",
        "print('El valor del polinomio en x =', t, 'es',p,'.')\n"
      ]
    },
    {
      "cell_type": "code",
      "source": [
        "#Evaluación de un polinomio en la forma de Newton anidada\n",
        "\n",
        "#Valor a evaluar\n",
        "t = 30\n",
        "\n",
        "p = a[n]\n",
        "for i in range(n-1,-1,-1):\n",
        "  p = p*(t-x[i]) + a[i]\n",
        "\n",
        "print('El valor del polinomio en x =', t, 'es',p,'.')"
      ],
      "metadata": {
        "colab": {
          "base_uri": "https://localhost:8080/",
          "height": 254
        },
        "id": "7_zr0OZO6epl",
        "outputId": "a8981ee7-1a56-4ac8-be53-469c2afc88b3"
      },
      "execution_count": 42,
      "outputs": [
        {
          "output_type": "error",
          "ename": "TypeError",
          "evalue": "ignored",
          "traceback": [
            "\u001b[0;31m---------------------------------------------------------------------------\u001b[0m",
            "\u001b[0;31mTypeError\u001b[0m                                 Traceback (most recent call last)",
            "\u001b[0;32m<ipython-input-42-d70ede5bc0b8>\u001b[0m in \u001b[0;36m<cell line: 7>\u001b[0;34m()\u001b[0m\n\u001b[1;32m      6\u001b[0m \u001b[0mp\u001b[0m \u001b[0;34m=\u001b[0m \u001b[0ma\u001b[0m\u001b[0;34m[\u001b[0m\u001b[0mn\u001b[0m\u001b[0;34m]\u001b[0m\u001b[0;34m\u001b[0m\u001b[0;34m\u001b[0m\u001b[0m\n\u001b[1;32m      7\u001b[0m \u001b[0;32mfor\u001b[0m \u001b[0mi\u001b[0m \u001b[0;32min\u001b[0m \u001b[0mrange\u001b[0m\u001b[0;34m(\u001b[0m\u001b[0mn\u001b[0m\u001b[0;34m-\u001b[0m\u001b[0;36m1\u001b[0m\u001b[0;34m,\u001b[0m\u001b[0;34m-\u001b[0m\u001b[0;36m1\u001b[0m\u001b[0;34m,\u001b[0m\u001b[0;34m-\u001b[0m\u001b[0;36m1\u001b[0m\u001b[0;34m)\u001b[0m\u001b[0;34m:\u001b[0m\u001b[0;34m\u001b[0m\u001b[0;34m\u001b[0m\u001b[0m\n\u001b[0;32m----> 8\u001b[0;31m   \u001b[0mp\u001b[0m \u001b[0;34m=\u001b[0m \u001b[0mp\u001b[0m\u001b[0;34m*\u001b[0m\u001b[0;34m(\u001b[0m\u001b[0mt\u001b[0m\u001b[0;34m-\u001b[0m\u001b[0mx\u001b[0m\u001b[0;34m[\u001b[0m\u001b[0mi\u001b[0m\u001b[0;34m]\u001b[0m\u001b[0;34m)\u001b[0m \u001b[0;34m+\u001b[0m \u001b[0ma\u001b[0m\u001b[0;34m[\u001b[0m\u001b[0mi\u001b[0m\u001b[0;34m]\u001b[0m\u001b[0;34m\u001b[0m\u001b[0;34m\u001b[0m\u001b[0m\n\u001b[0m\u001b[1;32m      9\u001b[0m \u001b[0;34m\u001b[0m\u001b[0m\n\u001b[1;32m     10\u001b[0m \u001b[0mprint\u001b[0m\u001b[0;34m(\u001b[0m\u001b[0;34m'El valor del polinomio en x ='\u001b[0m\u001b[0;34m,\u001b[0m \u001b[0mt\u001b[0m\u001b[0;34m,\u001b[0m \u001b[0;34m'es'\u001b[0m\u001b[0;34m,\u001b[0m\u001b[0mp\u001b[0m\u001b[0;34m,\u001b[0m\u001b[0;34m'.'\u001b[0m\u001b[0;34m)\u001b[0m\u001b[0;34m\u001b[0m\u001b[0;34m\u001b[0m\u001b[0m\n",
            "\u001b[0;31mTypeError\u001b[0m: 'function' object is not subscriptable"
          ]
        }
      ]
    },
    {
      "cell_type": "code",
      "source": [
        "# Coeficientes para 8°C y 30°C\n",
        "coeficientes_8C = 1.3789799680000001   # El coeficiente correspondiente a 8°C\n",
        "coeficientes_30C = 0.9159999999999976  # El coeficiente correspondiente a 30°C\n",
        "\n",
        "# Temperaturas correspondientes\n",
        "temperatura_8C = 8\n",
        "temperatura_30C = 30\n",
        "\n",
        "# Variable para la temperatura a evaluar\n",
        "temperatura_evaluar = 8  # Cambia esto según tu necesidad\n",
        "\n",
        "# Construir el polinomio de Newton para 8°C\n",
        "polinomio_8C = coeficientes_8C\n",
        "\n",
        "# Actualizar el polinomio de Newton para 30°C\n",
        "polinomio_8C = (polinomio_8C * (temperatura_evaluar - temperatura_30C)) / (temperatura_8C - temperatura_30C)\n",
        "\n",
        "# Imprimir el polinomio de Newton\n",
        "print(f\"El polinomio de Newton para la viscosidad a {temperatura_evaluar}°C es:\")\n",
        "print(f\"P({temperatura_evaluar}) = {polinomio_8C}\")\n"
      ],
      "metadata": {
        "colab": {
          "base_uri": "https://localhost:8080/"
        },
        "id": "2_N4ZUO2La7z",
        "outputId": "d3bc03be-f5c2-4347-abe3-76c560ff3215"
      },
      "execution_count": 2,
      "outputs": [
        {
          "output_type": "stream",
          "name": "stdout",
          "text": [
            "El polinomio de Newton para la viscosidad a 8°C es:\n",
            "P(8) = 1.212\n"
          ]
        }
      ]
    },
    {
      "cell_type": "code",
      "source": [
        "import numpy as np\n",
        "\n",
        "# Definir el sistema de ecuaciones como una matriz y un vector\n",
        "A = np.array([[15, -2, -6, 0],\n",
        "              [-2, 12, -4, -1],\n",
        "              [-6, -4, 19, -9],\n",
        "              [0, -1, -9, 21]], dtype=float)\n",
        "B = np.array([356.4, 0, 0, 0], dtype=float)\n",
        "\n",
        "# Número máximo de iteraciones\n",
        "max_iteraciones = 1000\n",
        "\n",
        "# Precisión deseada\n",
        "precision = 1e-6\n",
        "\n",
        "# Inicializar las corrientes\n",
        "I = np.zeros(4, dtype=float)\n",
        "\n",
        "# Iniciar la iteración\n",
        "for iteracion in range(max_iteraciones):\n",
        "    I_nuevo = np.copy(I)\n",
        "    for i in range(len(I)):\n",
        "        suma = 0\n",
        "        for j in range(len(I)):\n",
        "            if j != i:\n",
        "                suma += A[i, j] * I[j]\n",
        "        I_nuevo[i] = (B[i] - suma) / A[i, i]\n",
        "    error = np.max(np.abs(I_nuevo - I))\n",
        "    I = I_nuevo\n",
        "    if error < precision:\n",
        "        break\n",
        "\n",
        "# Imprimir resultados\n",
        "for i in range(len(I)):\n",
        "    print(f\"I{i+1} = {I[i]}\")\n",
        "\n",
        "print(f\"Iteraciones necesarias: {iteracion + 1}\")\n"
      ],
      "metadata": {
        "colab": {
          "base_uri": "https://localhost:8080/"
        },
        "id": "blCjpCLiwEq6",
        "outputId": "da7039c1-b220-403c-cec4-ac7220a5e98f"
      },
      "execution_count": 5,
      "outputs": [
        {
          "output_type": "stream",
          "name": "stdout",
          "text": [
            "I1 = 31.540397918510614\n",
            "I2 = 11.112195768902923\n",
            "I3 = 15.746930767797659\n",
            "I4 = 7.277836336678953\n",
            "Iteraciones necesarias: 44\n"
          ]
        }
      ]
    },
    {
      "cell_type": "code",
      "source": [
        "import math\n",
        "\n",
        "# Definir la función H(r)\n",
        "def H(r):\n",
        "    I = 20.3  # Corriente en A\n",
        "    R = 0.35  # Radio de la espira en m\n",
        "    integrando = lambda theta: (1 - (r / R)**2 * math.sin(theta)**2)**0.5\n",
        "    return 4 * I * r / (R**2 - r**2) * math.sin(math.pi / 2) * integrando(0) / 2\n",
        "\n",
        "# Límites de integración\n",
        "a = 0\n",
        "b = 0.175\n",
        "\n",
        "# Precisión deseada\n",
        "precision = 1e-9\n",
        "\n",
        "# Número inicial de subintervalos\n",
        "n = 2\n",
        "\n",
        "# Iniciar la iteración\n",
        "integral_actual = 0\n",
        "integral_anterior = 0\n",
        "iteraciones = 0\n",
        "\n",
        "while True:\n",
        "    h = (b - a) / n\n",
        "    suma = H(a) + H(b)\n",
        "\n",
        "    for i in range(1, n):\n",
        "        if i % 2 == 0:\n",
        "            suma += 2 * H(a + i * h)\n",
        "        else:\n",
        "            suma += 4 * H(a + i * h)\n",
        "\n",
        "    integral_actual = (h / 3) * suma\n",
        "    iteraciones += 1\n",
        "\n",
        "    if abs(integral_actual - integral_anterior) < precision:\n",
        "        break\n",
        "\n",
        "    n *= 2\n",
        "    integral_anterior = integral_actual\n",
        "\n",
        "# Imprimir resultado\n",
        "print(f\"Valor del campo magnético: {integral_actual}\")\n",
        "print(f\"Iteraciones necesarias: {iteraciones}\")\n"
      ],
      "metadata": {
        "colab": {
          "base_uri": "https://localhost:8080/"
        },
        "id": "JfRpwrqezY2H",
        "outputId": "8fbecde0-be9d-46e1-f853-eeec02e22626"
      },
      "execution_count": 6,
      "outputs": [
        {
          "output_type": "stream",
          "name": "stdout",
          "text": [
            "Valor del campo magnético: 5.839946070779891\n",
            "Iteraciones necesarias: 9\n"
          ]
        }
      ]
    },
    {
      "cell_type": "code",
      "source": [
        "import sympy as sp\n",
        "\n",
        "# Definir las variables simbólicas\n",
        "t = sp.symbols('t')\n",
        "\n",
        "# Definir la función x(t)\n",
        "x = -106.8 * sp.atan(sp.exp(2/t)) * sp.sin(sp.sqrt(4 + t**2))\n",
        "\n",
        "# Calcular la derivada de x(t) con respecto a t (velocidad v(t))\n",
        "v = sp.diff(x, t)\n",
        "\n",
        "# Evaluar v(t) en t = 3.58 s\n",
        "t_value = 3.58\n",
        "velocity_at_t = v.subs(t, t_value)\n",
        "\n",
        "# Imprimir el resultado\n",
        "print(f\"La velocidad en t = {t_value} s es {velocity_at_t:.10f} m/s\")\n"
      ],
      "metadata": {
        "colab": {
          "base_uri": "https://localhost:8080/"
        },
        "id": "cn_ps0tx3j5T",
        "outputId": "45ed340a-7218-44f0-f65f-bb3c225f2958"
      },
      "execution_count": 7,
      "outputs": [
        {
          "output_type": "stream",
          "name": "stdout",
          "text": [
            "La velocidad en t = 3.58 s es 50.3975810346 m/s\n"
          ]
        }
      ]
    },
    {
      "cell_type": "code",
      "source": [
        "import math\n",
        "import matplotlib.pyplot as plt\n",
        "\n",
        "# Definir la función H(r)\n",
        "def H(r):\n",
        "    I = 20.3  # Corriente en A\n",
        "    R = 0.35  # Radio de la espira en m\n",
        "    integrando = lambda theta: (1 - (r / R)**2 * math.sin(theta)**2)**0.5\n",
        "    return 4 * I * r / (R**2 - r**2) * math.sin(math.pi / 2) * integrando(0) / 2\n",
        "\n",
        "# Límites de integración\n",
        "a = 0\n",
        "b = 0.175\n",
        "\n",
        "# Precisión deseada\n",
        "precision = 1e-9\n",
        "\n",
        "# Número inicial de subintervalos\n",
        "n = 2\n",
        "\n",
        "# Iniciar la iteración\n",
        "integral_actual = 0\n",
        "integral_anterior = 0\n",
        "iteraciones = 0\n",
        "\n",
        "# Listas para almacenar datos de la gráfica\n",
        "r_values = []\n",
        "H_values = []\n",
        "\n",
        "while True:\n",
        "    h = (b - a) / n\n",
        "    suma = H(a) + H(b)\n",
        "\n",
        "    for i in range(1, n):\n",
        "        if i % 2 == 0:\n",
        "            suma += 2 * H(a + i * h)\n",
        "        else:\n",
        "            suma += 4 * H(a + i * h)\n",
        "\n",
        "    integral_actual = (h / 3) * suma\n",
        "    iteraciones += 1\n",
        "\n",
        "    # Agregar valores para la gráfica\n",
        "    r_values.append(a)\n",
        "    H_values.append(integral_actual)\n",
        "\n",
        "    if abs(integral_actual - integral_anterior) < precision:\n",
        "        break\n",
        "\n",
        "    n *= 2\n",
        "    integral_anterior = integral_actual\n",
        "\n",
        "# Imprimir resultado\n",
        "print(f\"Valor del campo magnético para regla de simpson compuesta: {integral_actual}\")\n",
        "print(f\"Iteraciones necesarias: {iteraciones}\")\n"
      ],
      "metadata": {
        "colab": {
          "base_uri": "https://localhost:8080/"
        },
        "id": "8eewDp2E52kr",
        "outputId": "f0e736e4-6af5-41f0-aafc-98c3b1d66d66"
      },
      "execution_count": 17,
      "outputs": [
        {
          "output_type": "stream",
          "name": "stdout",
          "text": [
            "Valor del campo magnético para regla de simpson compuesta: 5.839946070779891\n",
            "Iteraciones necesarias: 9\n"
          ]
        }
      ]
    },
    {
      "cell_type": "code",
      "source": [
        "import numpy as np\n",
        "\n",
        "# Coeficientes del sistema de ecuaciones\n",
        "A = np.array([[1, -2/15, -6/15], [2/12, 1, 4/12], [-20/3, 0, 47/3]])\n",
        "b = np.array([356.4/15, 0, 0])\n",
        "\n",
        "# Resolver el sistema\n",
        "solution = np.linalg.solve(A, b)\n",
        "\n",
        "I1, I2, I3 = solution\n",
        "I4 = -20/3 * I1 + 47/3 * I3\n",
        "print(f\"I1 = {I1}, I2 = {I2}, I3 = {I3}, I4 = {I4}\")\n"
      ],
      "metadata": {
        "colab": {
          "base_uri": "https://localhost:8080/"
        },
        "id": "GizvmkhfE1Pf",
        "outputId": "e5a54c5e-f370-486b-d725-060eb0af5728"
      },
      "execution_count": 9,
      "outputs": [
        {
          "output_type": "stream",
          "name": "stdout",
          "text": [
            "I1 = 27.2814332247557, I2 = -8.41661237785016, I3 = 11.609120521172638, I4 = 0.0\n"
          ]
        }
      ]
    },
    {
      "cell_type": "code",
      "source": [
        "# Calcular la corriente neta a través de la resistencia de 9 Ω\n",
        "I9 = abs(I2 - I4)\n",
        "\n",
        "# Resistencia de 9 Ω\n",
        "R9 = 9  # en ohmios\n",
        "\n",
        "# Calcular la potencia eléctrica consumida por la resistencia de 9 Ω\n",
        "P9 = R9 * I9**2\n",
        "\n",
        "print(f\"La corriente a través de la resistencia de 9 Ω es {I9:.2f} A\")\n",
        "print(f\"La potencia consumida por la resistencia de 9 Ω es {P9:.2f} W\")\n"
      ],
      "metadata": {
        "colab": {
          "base_uri": "https://localhost:8080/"
        },
        "id": "_METtj4MFG4L",
        "outputId": "30c40338-ac6b-481a-b090-e898358dc513"
      },
      "execution_count": 10,
      "outputs": [
        {
          "output_type": "stream",
          "name": "stdout",
          "text": [
            "La corriente a través de la resistencia de 9 Ω es 8.42 A\n",
            "La potencia consumida por la resistencia de 9 Ω es 637.55 W\n"
          ]
        }
      ]
    },
    {
      "cell_type": "code",
      "source": [
        "# Coeficientes del sistema de ecuaciones\n",
        "A = [[15, -2, -6, 0],\n",
        "     [-2, 12, -4, -1],\n",
        "     [-6, -4, 19, -9],\n",
        "     [0, -1, -9, 21]]\n",
        "\n",
        "# Lado derecho del sistema de ecuaciones\n",
        "B = [356.4, 0, 0, 0]\n",
        "\n",
        "# Resolver el sistema de ecuaciones\n",
        "from numpy.linalg import solve\n",
        "I = solve(A, B)\n",
        "\n",
        "# Calcular la corriente neta a través de la resistencia de 9 Ω\n",
        "I9 = abs(I[2] - I[3])\n",
        "\n",
        "# Valor de la resistencia de 9 Ω\n",
        "R9 = 9\n",
        "\n",
        "# Calcular la potencia disipada en la resistencia de 9 Ω utilizando la ley de Ohm\n",
        "P9 = I9**2 * R9\n",
        "\n",
        "# Imprimir la potencia\n",
        "print(\"La potencia consumida por la resistencia de 9 Ω es:\", P9, \"vatios\")\n"
      ],
      "metadata": {
        "colab": {
          "base_uri": "https://localhost:8080/"
        },
        "id": "p0JyKWHYc2fF",
        "outputId": "2d7738a9-ea13-4738-d0ae-367eb41c1cef"
      },
      "execution_count": 12,
      "outputs": [
        {
          "output_type": "stream",
          "name": "stdout",
          "text": [
            "La potencia consumida por la resistencia de 9 Ω es: 645.5301588371182 vatios\n"
          ]
        }
      ]
    },
    {
      "cell_type": "code",
      "source": [
        "import math\n",
        "\n",
        "# Definir la función H(r)\n",
        "def H(r):\n",
        "    I = 20.3  # Corriente en A\n",
        "    R = 0.35  # Radio de la espira en m\n",
        "    integrando = lambda theta: (1 - (r / R)**2 * math.sin(theta)**2)**0.5\n",
        "    return 4 * I * r / (R**2 - r**2) * math.sin(math.pi / 2) * integrando(0) / 2\n",
        "\n",
        "# Límites de integración\n",
        "a = 0\n",
        "b = 0.175\n",
        "\n",
        "# Precisión deseada\n",
        "precision = 1e-9\n",
        "\n",
        "# Número inicial de subintervalos\n",
        "n = 2\n",
        "\n",
        "# Iniciar la iteración\n",
        "integral_actual = 0\n",
        "integral_anterior = 0\n",
        "iteraciones = 0\n",
        "\n",
        "while True:\n",
        "    h = (b - a) / n\n",
        "    suma = H(a) + H(b)\n",
        "\n",
        "    for i in range(1, n):\n",
        "        suma += 2 * H(a + i * h)\n",
        "\n",
        "    integral_actual = (h / 2) * suma\n",
        "    iteraciones += 1\n",
        "\n",
        "    if abs(integral_actual - integral_anterior) < precision:\n",
        "        break\n",
        "\n",
        "    n *= 2\n",
        "    integral_anterior = integral_actual\n",
        "\n",
        "# Imprimir resultado\n",
        "print(f\"Valor del campo magnético usando regla del trapecio: {integral_actual}\")\n",
        "print(f\"Iteraciones necesarias: {iteraciones}\")\n"
      ],
      "metadata": {
        "colab": {
          "base_uri": "https://localhost:8080/"
        },
        "id": "7ES-n3zTdkfw",
        "outputId": "b7b7acec-0d9c-4b34-a135-2b29c57d66d3"
      },
      "execution_count": 14,
      "outputs": [
        {
          "output_type": "stream",
          "name": "stdout",
          "text": [
            "Valor del campo magnético usando regla del trapecio: 5.839946071011848\n",
            "Iteraciones necesarias: 16\n"
          ]
        }
      ]
    },
    {
      "cell_type": "code",
      "source": [
        "import math\n",
        "\n",
        "# Definir la función H(r)\n",
        "def H(r):\n",
        "    I = 20.3  # Corriente en A\n",
        "    R = 0.35  # Radio de la espira en m\n",
        "    integrando = lambda theta: (1 - (r / R)**2 * math.sin(theta)**2)**0.5\n",
        "    return 4 * I * r / (R**2 - r**2) * math.sin(math.pi / 2) * integrando(0) / 2\n",
        "\n",
        "# Límites de integración\n",
        "a = 0\n",
        "b = 0.175\n",
        "\n",
        "# Precisión deseada\n",
        "precision = 1e-9\n",
        "\n",
        "# Número inicial de subintervalos\n",
        "n = 2\n",
        "\n",
        "# Iniciar la iteración\n",
        "integral_actual = 0\n",
        "integral_anterior = 0\n",
        "iteraciones = 0\n",
        "\n",
        "while True:\n",
        "    h = (b - a) / n\n",
        "    suma = 0\n",
        "\n",
        "    for i in range(n):\n",
        "        x = a + (i + 0.5) * h\n",
        "        suma += H(x)\n",
        "\n",
        "    integral_actual = h * suma\n",
        "    iteraciones += 1\n",
        "\n",
        "    if abs(integral_actual - integral_anterior) < precision:\n",
        "        break\n",
        "\n",
        "    n *= 2\n",
        "    integral_anterior = integral_actual\n",
        "\n",
        "# Imprimir resultado\n",
        "print(f\"Valor del campo magnético con regla del punto medio: {integral_actual}\")\n",
        "print(f\"Iteraciones necesarias: {iteraciones}\")\n"
      ],
      "metadata": {
        "colab": {
          "base_uri": "https://localhost:8080/"
        },
        "id": "NmMXtoaKfD73",
        "outputId": "e1e3304e-ec80-491d-e154-5474a0b6f3f1"
      },
      "execution_count": 19,
      "outputs": [
        {
          "output_type": "stream",
          "name": "stdout",
          "text": [
            "Valor del campo magnético con regla del punto medio: 5.839946070650787\n",
            "Iteraciones necesarias: 16\n"
          ]
        }
      ]
    },
    {
      "cell_type": "code",
      "source": [
        "import math\n",
        "\n",
        "# Función para la posición x(t)\n",
        "def x(t):\n",
        "    return -106.8 * math.atan(math.exp(2 / t)) * math.sin(math.sqrt(4 + t**2))\n",
        "\n",
        "# Función para calcular la velocidad usando diferencias finitas\n",
        "def calcular_velocidad(t, h):\n",
        "    velocidad = (x(t + h) - x(t)) / h\n",
        "    return velocidad\n",
        "\n",
        "# Valor de t en el que queremos calcular la velocidad\n",
        "t = 3.58\n",
        "\n",
        "# Precisión deseada\n",
        "precision = 0.5e-5  # 0.5 × 10^(-5) m/s\n",
        "\n",
        "# Inicializar h\n",
        "h = 0.8  # Valor inicial de h, puedes ajustarlo\n",
        "\n",
        "# Calcular la velocidad inicial\n",
        "velocidad_actual = calcular_velocidad(t, h)\n",
        "\n",
        "# Bucle para refinar la aproximación hasta que se alcance la precisión deseada\n",
        "while abs(velocidad_actual - calcular_velocidad(t, h / 2)) > precision:\n",
        "    h /= 2\n",
        "    velocidad_actual = calcular_velocidad(t, h)\n",
        "\n",
        "# Imprimir el resultado\n",
        "print(f\"La velocidad en t = {t} s es: {velocidad_actual} m/s\")\n"
      ],
      "metadata": {
        "colab": {
          "base_uri": "https://localhost:8080/"
        },
        "id": "QHwlMm52sGzl",
        "outputId": "d536966f-2123-46cf-8d72-5f725391742f"
      },
      "execution_count": 30,
      "outputs": [
        {
          "output_type": "stream",
          "name": "stdout",
          "text": [
            "La velocidad en t = 3.58 s es: 50.39757438004017 m/s\n"
          ]
        }
      ]
    }
  ]
}