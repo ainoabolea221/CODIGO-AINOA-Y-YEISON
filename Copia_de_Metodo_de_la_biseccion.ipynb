{
  "nbformat": 4,
  "nbformat_minor": 0,
  "metadata": {
    "colab": {
      "provenance": [],
      "include_colab_link": true
    },
    "kernelspec": {
      "name": "python3",
      "display_name": "Python 3"
    },
    "language_info": {
      "name": "python"
    }
  },
  "cells": [
    {
      "cell_type": "markdown",
      "metadata": {
        "id": "view-in-github",
        "colab_type": "text"
      },
      "source": [
        "<a href=\"https://colab.research.google.com/github/ainoabolea221/CODIGO-AINOA-Y-YEISON/blob/main/Copia_de_Metodo_de_la_biseccion.ipynb\" target=\"_parent\"><img src=\"https://colab.research.google.com/assets/colab-badge.svg\" alt=\"Open In Colab\"/></a>"
      ]
    },
    {
      "cell_type": "code",
      "execution_count": 2,
      "metadata": {
        "colab": {
          "base_uri": "https://localhost:8080/"
        },
        "id": "EA_C0PcnbQSD",
        "outputId": "04ab073d-db79-4be3-efb4-0a933acadf4d"
      },
      "outputs": [
        {
          "output_type": "stream",
          "name": "stdout",
          "text": [
            "Intervalo de confianza para la media poblacional:\n",
            "(-2.4382995001261767, 12.57163283345951)\n"
          ]
        }
      ],
      "source": [
        "import numpy as np\n",
        "from scipy.stats import t\n",
        "\n",
        "# Datos proporcionados\n",
        "datos = [(0, 0.166), (3, 0.2), (5, 0.333), (8, 0.1), (10, 0.2)]\n",
        "\n",
        "# Extraer valores y probabilidades\n",
        "valores = [d[0] for d in datos]\n",
        "probabilidades = [d[1] for d in datos]\n",
        "\n",
        "# Calcular la media y la desviación estándar muestrales\n",
        "media_muestral = 76/15\n",
        "varianza_muestral = 548/15\n",
        "desviacion_estandar_muestral = np.sqrt(varianza_muestral)\n",
        "\n",
        "# Tamaño de la muestra\n",
        "n = len(datos)\n",
        "\n",
        "# Nivel de confianza (95%)\n",
        "confianza = 0.95\n",
        "\n",
        "# Grados de libertad\n",
        "grados_libertad = n - 1\n",
        "\n",
        "# Valor crítico de la distribución t de Student\n",
        "valor_critico = t.ppf((1 + confianza) / 2, df=grados_libertad)\n",
        "\n",
        "# Error estándar de la media\n",
        "error_estandar_media = desviacion_estandar_muestral / np.sqrt(n)\n",
        "\n",
        "# Intervalo de confianza para la media poblacional\n",
        "limite_inferior = media_muestral - valor_critico * error_estandar_media\n",
        "limite_superior = media_muestral + valor_critico * error_estandar_media\n",
        "\n",
        "print(\"Intervalo de confianza para la media poblacional:\")\n",
        "print(f\"({limite_inferior}, {limite_superior})\")\n"
      ]
    },
    {
      "cell_type": "code",
      "source": [
        "def funcion(x):\n",
        "    return x**2 - 6*x + 5  # es un ejemplo no se le olvide ijijijij\n",
        "\n",
        "def gradiente(funcion, x, h=0.001):\n",
        "    return (funcion(x + h) - funcion(x - h)) / (2 * h)\n",
        "\n",
        "def metodo_gradiente(funcion, x_inicial, tasa_aprendizaje=0.01, epsilon=0.0001, max_iter=1000):\n",
        "    x_actual = x_inicial\n",
        "    for _ in range(max_iter):\n",
        "        grad = gradiente(funcion, x_actual)\n",
        "        x_nuevo = x_actual - tasa_aprendizaje * grad\n",
        "        if abs(x_nuevo - x_actual) < epsilon:\n",
        "            break\n",
        "        x_actual = x_nuevo\n",
        "    return x_actual\n",
        "\n",
        "x_minimo = metodo_gradiente(funcion, x_inicial=0)\n",
        "print(\"El mínimo de la función es:\", x_minimo)\n",
        "print(\"El valor mínimo de la función es:\", funcion(x_minimo))\n"
      ],
      "metadata": {
        "id": "qucASebnFzLA",
        "outputId": "79798c92-d6b1-482e-f7d3-8cc3f64c211b",
        "colab": {
          "base_uri": "https://localhost:8080/"
        }
      },
      "execution_count": 1,
      "outputs": [
        {
          "output_type": "stream",
          "name": "stdout",
          "text": [
            "El mínimo de la función es: 2.995036508879918\n",
            "El valor mínimo de la función es: -3.9999753637558992\n"
          ]
        }
      ]
    }
  ]
}