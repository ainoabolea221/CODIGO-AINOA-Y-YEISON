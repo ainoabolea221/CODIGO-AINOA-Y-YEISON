{
  "nbformat": 4,
  "nbformat_minor": 0,
  "metadata": {
    "colab": {
      "provenance": [],
      "include_colab_link": true
    },
    "kernelspec": {
      "name": "python3",
      "display_name": "Python 3"
    },
    "language_info": {
      "name": "python"
    }
  },
  "cells": [
    {
      "cell_type": "markdown",
      "metadata": {
        "id": "view-in-github",
        "colab_type": "text"
      },
      "source": [
        "<a href=\"https://colab.research.google.com/github/ainoabolea221/CODIGO-AINOA-Y-YEISON/blob/main/Copia_de_Metodo_de_la_biseccion.ipynb\" target=\"_parent\"><img src=\"https://colab.research.google.com/assets/colab-badge.svg\" alt=\"Open In Colab\"/></a>"
      ]
    },
    {
      "cell_type": "code",
      "execution_count": 6,
      "metadata": {
        "colab": {
          "base_uri": "https://localhost:8080/"
        },
        "id": "EA_C0PcnbQSD",
        "outputId": "441f882f-102b-4acb-f4f6-b131ee471d84"
      },
      "outputs": [
        {
          "output_type": "stream",
          "name": "stdout",
          "text": [
            "Interpolación lineal en x = 4 es y = 6.5\n"
          ]
        }
      ],
      "source": [
        "def interpolacion_lineal(x_valores, y_valores, x):\n",
        "\n",
        "    # Encontrar los índices de los dos valores conocidos más cercanos a x\n",
        "    idx = 0\n",
        "    while x_valores[idx] < x:\n",
        "        idx += 1\n",
        "\n",
        "    # Calcular el valor interpolado utilizando la fórmula de interpolación lineal\n",
        "    x0, x1 = x_valores[idx - 1], x_valores[idx]\n",
        "    y0, y1 = y_valores[idx - 1], y_valores[idx]\n",
        "    y = y0 + (y1 - y0) * (x - x0) / (x1 - x0)\n",
        "\n",
        "    return y\n",
        "\n",
        "# Ejemplo de uso\n",
        "x_valores = [1, 3, 2, 6]\n",
        "y_valores = [2, 4, 5, 8]\n",
        "x = 4\n",
        "y_interp = interpolacion_lineal(x_valores, y_valores, x)\n",
        "print(\"Interpolación lineal en x =\", x, \"es y =\", y_interp)\n"
      ]
    },
    {
      "cell_type": "code",
      "source": [
        "def interpolacion_lineal(x0, y0, x1, y1, x):\n",
        "    # UTILIZAR ESTA\n",
        "    y = y0 + (y1 - y0) * (x - x0) / (x1 - x0)\n",
        "\n",
        "    return y\n",
        "\n",
        "# Ejemplo de uso\n",
        "x0, y0 = 1,2\n",
        "x1, y1 = 3,4\n",
        "x = 2.5\n",
        "y_interp = interpolacion_lineal(x0, y0, x1, y1, x)\n",
        "print(\"Interpolación lineal en x =\", x, \"es y =\", y_interp)\n"
      ],
      "metadata": {
        "colab": {
          "base_uri": "https://localhost:8080/"
        },
        "id": "2Hy_BjmcEiRV",
        "outputId": "eff2b1a6-b3eb-4ad0-c888-20baa1ad215d"
      },
      "execution_count": 9,
      "outputs": [
        {
          "output_type": "stream",
          "name": "stdout",
          "text": [
            "Interpolación lineal en x = 2.5 es y = 3.5\n"
          ]
        }
      ]
    },
    {
      "cell_type": "code",
      "source": [
        "def interpolacion_polinomica(x_valores, y_valores, x):\n",
        "    n = len(x_valores)\n",
        "    y = 0\n",
        "\n",
        "    for i in range(n):\n",
        "        term = y_valores[i]\n",
        "        for j in range(n):\n",
        "            if j != i:\n",
        "                term *= (x - x_valores[j]) / (x_valores[i] - x_valores[j])\n",
        "        y += term\n",
        "\n",
        "    return y\n",
        "\n",
        "# Ejemplo de uso\n",
        "x_valores = [0, 1, 2, 3, 4]\n",
        "y_valores = [0, 1, 4, 9, 16]\n",
        "x = 2.5\n",
        "y_interp = interpolacion_polinomica(x_valores, y_valores, x)\n",
        "print(\"Interpolación polinómica en x =\", x, \"es y =\", y_interp)\n"
      ],
      "metadata": {
        "colab": {
          "base_uri": "https://localhost:8080/"
        },
        "id": "Yoq5EK-aCtI-",
        "outputId": "3e58857c-8680-4544-fa91-227259957206"
      },
      "execution_count": 3,
      "outputs": [
        {
          "output_type": "stream",
          "name": "stdout",
          "text": [
            "Interpolación polinómica en x = 2.5 es y = 6.25\n"
          ]
        }
      ]
    }
  ]
}