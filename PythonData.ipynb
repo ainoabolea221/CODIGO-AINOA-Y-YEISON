{
  "cells": [
    {
      "cell_type": "markdown",
      "metadata": {
        "id": "view-in-github",
        "colab_type": "text"
      },
      "source": [
        "<a href=\"https://colab.research.google.com/github/ainoabolea221/CODIGO-AINOA-Y-YEISON/blob/main/PythonData.ipynb\" target=\"_parent\"><img src=\"https://colab.research.google.com/assets/colab-badge.svg\" alt=\"Open In Colab\"/></a>"
      ]
    },
    {
      "cell_type": "markdown",
      "metadata": {
        "id": "pGai0_A5oTB1"
      },
      "source": [
        "### **Data Manipulation in Python**"
      ]
    },
    {
      "cell_type": "markdown",
      "metadata": {
        "id": "U68rIwRroTB3"
      },
      "source": [
        "### Reading data from CSV files using csv package"
      ]
    },
    {
      "cell_type": "code",
      "execution_count": 1,
      "metadata": {
        "id": "YJSsPQEGoTB3"
      },
      "outputs": [],
      "source": [
        "# Set-up\n",
        "import csv"
      ]
    },
    {
      "cell_type": "code",
      "execution_count": 2,
      "metadata": {
        "id": "ZQ94OoEToTB4",
        "colab": {
          "base_uri": "https://localhost:8080/",
          "height": 73
        },
        "outputId": "636d4d95-140b-486a-f5ac-99862de0fe2a"
      },
      "outputs": [
        {
          "output_type": "display_data",
          "data": {
            "text/plain": [
              "<IPython.core.display.HTML object>"
            ],
            "text/html": [
              "\n",
              "     <input type=\"file\" id=\"files-e402caa8-82b2-4ea5-a0cf-a16b02afdc35\" name=\"files[]\" multiple disabled\n",
              "        style=\"border:none\" />\n",
              "     <output id=\"result-e402caa8-82b2-4ea5-a0cf-a16b02afdc35\">\n",
              "      Upload widget is only available when the cell has been executed in the\n",
              "      current browser session. Please rerun this cell to enable.\n",
              "      </output>\n",
              "      <script>// Copyright 2017 Google LLC\n",
              "//\n",
              "// Licensed under the Apache License, Version 2.0 (the \"License\");\n",
              "// you may not use this file except in compliance with the License.\n",
              "// You may obtain a copy of the License at\n",
              "//\n",
              "//      http://www.apache.org/licenses/LICENSE-2.0\n",
              "//\n",
              "// Unless required by applicable law or agreed to in writing, software\n",
              "// distributed under the License is distributed on an \"AS IS\" BASIS,\n",
              "// WITHOUT WARRANTIES OR CONDITIONS OF ANY KIND, either express or implied.\n",
              "// See the License for the specific language governing permissions and\n",
              "// limitations under the License.\n",
              "\n",
              "/**\n",
              " * @fileoverview Helpers for google.colab Python module.\n",
              " */\n",
              "(function(scope) {\n",
              "function span(text, styleAttributes = {}) {\n",
              "  const element = document.createElement('span');\n",
              "  element.textContent = text;\n",
              "  for (const key of Object.keys(styleAttributes)) {\n",
              "    element.style[key] = styleAttributes[key];\n",
              "  }\n",
              "  return element;\n",
              "}\n",
              "\n",
              "// Max number of bytes which will be uploaded at a time.\n",
              "const MAX_PAYLOAD_SIZE = 100 * 1024;\n",
              "\n",
              "function _uploadFiles(inputId, outputId) {\n",
              "  const steps = uploadFilesStep(inputId, outputId);\n",
              "  const outputElement = document.getElementById(outputId);\n",
              "  // Cache steps on the outputElement to make it available for the next call\n",
              "  // to uploadFilesContinue from Python.\n",
              "  outputElement.steps = steps;\n",
              "\n",
              "  return _uploadFilesContinue(outputId);\n",
              "}\n",
              "\n",
              "// This is roughly an async generator (not supported in the browser yet),\n",
              "// where there are multiple asynchronous steps and the Python side is going\n",
              "// to poll for completion of each step.\n",
              "// This uses a Promise to block the python side on completion of each step,\n",
              "// then passes the result of the previous step as the input to the next step.\n",
              "function _uploadFilesContinue(outputId) {\n",
              "  const outputElement = document.getElementById(outputId);\n",
              "  const steps = outputElement.steps;\n",
              "\n",
              "  const next = steps.next(outputElement.lastPromiseValue);\n",
              "  return Promise.resolve(next.value.promise).then((value) => {\n",
              "    // Cache the last promise value to make it available to the next\n",
              "    // step of the generator.\n",
              "    outputElement.lastPromiseValue = value;\n",
              "    return next.value.response;\n",
              "  });\n",
              "}\n",
              "\n",
              "/**\n",
              " * Generator function which is called between each async step of the upload\n",
              " * process.\n",
              " * @param {string} inputId Element ID of the input file picker element.\n",
              " * @param {string} outputId Element ID of the output display.\n",
              " * @return {!Iterable<!Object>} Iterable of next steps.\n",
              " */\n",
              "function* uploadFilesStep(inputId, outputId) {\n",
              "  const inputElement = document.getElementById(inputId);\n",
              "  inputElement.disabled = false;\n",
              "\n",
              "  const outputElement = document.getElementById(outputId);\n",
              "  outputElement.innerHTML = '';\n",
              "\n",
              "  const pickedPromise = new Promise((resolve) => {\n",
              "    inputElement.addEventListener('change', (e) => {\n",
              "      resolve(e.target.files);\n",
              "    });\n",
              "  });\n",
              "\n",
              "  const cancel = document.createElement('button');\n",
              "  inputElement.parentElement.appendChild(cancel);\n",
              "  cancel.textContent = 'Cancel upload';\n",
              "  const cancelPromise = new Promise((resolve) => {\n",
              "    cancel.onclick = () => {\n",
              "      resolve(null);\n",
              "    };\n",
              "  });\n",
              "\n",
              "  // Wait for the user to pick the files.\n",
              "  const files = yield {\n",
              "    promise: Promise.race([pickedPromise, cancelPromise]),\n",
              "    response: {\n",
              "      action: 'starting',\n",
              "    }\n",
              "  };\n",
              "\n",
              "  cancel.remove();\n",
              "\n",
              "  // Disable the input element since further picks are not allowed.\n",
              "  inputElement.disabled = true;\n",
              "\n",
              "  if (!files) {\n",
              "    return {\n",
              "      response: {\n",
              "        action: 'complete',\n",
              "      }\n",
              "    };\n",
              "  }\n",
              "\n",
              "  for (const file of files) {\n",
              "    const li = document.createElement('li');\n",
              "    li.append(span(file.name, {fontWeight: 'bold'}));\n",
              "    li.append(span(\n",
              "        `(${file.type || 'n/a'}) - ${file.size} bytes, ` +\n",
              "        `last modified: ${\n",
              "            file.lastModifiedDate ? file.lastModifiedDate.toLocaleDateString() :\n",
              "                                    'n/a'} - `));\n",
              "    const percent = span('0% done');\n",
              "    li.appendChild(percent);\n",
              "\n",
              "    outputElement.appendChild(li);\n",
              "\n",
              "    const fileDataPromise = new Promise((resolve) => {\n",
              "      const reader = new FileReader();\n",
              "      reader.onload = (e) => {\n",
              "        resolve(e.target.result);\n",
              "      };\n",
              "      reader.readAsArrayBuffer(file);\n",
              "    });\n",
              "    // Wait for the data to be ready.\n",
              "    let fileData = yield {\n",
              "      promise: fileDataPromise,\n",
              "      response: {\n",
              "        action: 'continue',\n",
              "      }\n",
              "    };\n",
              "\n",
              "    // Use a chunked sending to avoid message size limits. See b/62115660.\n",
              "    let position = 0;\n",
              "    do {\n",
              "      const length = Math.min(fileData.byteLength - position, MAX_PAYLOAD_SIZE);\n",
              "      const chunk = new Uint8Array(fileData, position, length);\n",
              "      position += length;\n",
              "\n",
              "      const base64 = btoa(String.fromCharCode.apply(null, chunk));\n",
              "      yield {\n",
              "        response: {\n",
              "          action: 'append',\n",
              "          file: file.name,\n",
              "          data: base64,\n",
              "        },\n",
              "      };\n",
              "\n",
              "      let percentDone = fileData.byteLength === 0 ?\n",
              "          100 :\n",
              "          Math.round((position / fileData.byteLength) * 100);\n",
              "      percent.textContent = `${percentDone}% done`;\n",
              "\n",
              "    } while (position < fileData.byteLength);\n",
              "  }\n",
              "\n",
              "  // All done.\n",
              "  yield {\n",
              "    response: {\n",
              "      action: 'complete',\n",
              "    }\n",
              "  };\n",
              "}\n",
              "\n",
              "scope.google = scope.google || {};\n",
              "scope.google.colab = scope.google.colab || {};\n",
              "scope.google.colab._files = {\n",
              "  _uploadFiles,\n",
              "  _uploadFilesContinue,\n",
              "};\n",
              "})(self);\n",
              "</script> "
            ]
          },
          "metadata": {}
        },
        {
          "output_type": "stream",
          "name": "stdout",
          "text": [
            "Saving Cities.csv to Cities.csv\n"
          ]
        }
      ],
      "source": [
        "# Upload initial data files\n",
        "# Choose files Cities.csv and Countries.csv - must be on local computer\n",
        "# If running notebook on local computer:\n",
        "#   No need to run this cell (it will generate an error)\n",
        "#   Make sure data files are in same workspace as notebook\n",
        "from google.colab import files\n",
        "uploaded = files.upload()"
      ]
    },
    {
      "cell_type": "code",
      "execution_count": 3,
      "metadata": {
        "id": "g4n0LOP-oTB5",
        "colab": {
          "base_uri": "https://localhost:8080/"
        },
        "outputId": "1ee6b237-9a6d-4d22-fcdf-ddb759db9adc"
      },
      "outputs": [
        {
          "output_type": "stream",
          "name": "stdout",
          "text": [
            "{'city': 'Aalborg', 'country': 'Denmark', 'latitude': '57.03', 'longitude': '9.92', 'temperature': '7.52'}\n",
            "{'city': 'Aberdeen', 'country': 'United Kingdom', 'latitude': '57.17', 'longitude': '-2.08', 'temperature': '8.10'}\n",
            "{'city': 'Abisko', 'country': 'Sweden', 'latitude': '63.35', 'longitude': '18.83', 'temperature': '0.20'}\n",
            "{'city': 'Adana', 'country': 'Turkey', 'latitude': '36.99', 'longitude': '35.32', 'temperature': '18.67'}\n",
            "{'city': 'Albacete', 'country': 'Spain', 'latitude': '39.00', 'longitude': '-1.87', 'temperature': '12.62'}\n",
            "{'city': 'Algeciras', 'country': 'Spain', 'latitude': '36.13', 'longitude': '-5.47', 'temperature': '17.38'}\n",
            "{'city': 'Amiens', 'country': 'France', 'latitude': '49.90', 'longitude': '2.30', 'temperature': '10.17'}\n",
            "{'city': 'Amsterdam', 'country': 'Netherlands', 'latitude': '52.35', 'longitude': '4.92', 'temperature': '8.93'}\n",
            "{'city': 'Ancona', 'country': 'Italy', 'latitude': '43.60', 'longitude': '13.50', 'temperature': '13.52'}\n",
            "{'city': 'Andorra', 'country': 'Andorra', 'latitude': '42.50', 'longitude': '1.52', 'temperature': '9.60'}\n",
            "{'city': 'Angers', 'country': 'France', 'latitude': '47.48', 'longitude': '-0.53', 'temperature': '10.98'}\n",
            "{'city': 'Ankara', 'country': 'Turkey', 'latitude': '39.93', 'longitude': '32.86', 'temperature': '9.86'}\n",
            "{'city': 'Antalya', 'country': 'Turkey', 'latitude': '36.89', 'longitude': '30.70', 'temperature': '11.88'}\n",
            "{'city': 'Arad', 'country': 'Romania', 'latitude': '46.17', 'longitude': '21.32', 'temperature': '9.32'}\n",
            "{'city': 'Athens', 'country': 'Greece', 'latitude': '37.98', 'longitude': '23.73', 'temperature': '17.41'}\n",
            "{'city': 'Augsburg', 'country': 'Germany', 'latitude': '48.35', 'longitude': '10.90', 'temperature': '4.54'}\n",
            "{'city': 'Bacau', 'country': 'Romania', 'latitude': '46.58', 'longitude': '26.92', 'temperature': '7.51'}\n",
            "{'city': 'Badajoz', 'country': 'Spain', 'latitude': '38.88', 'longitude': '-6.97', 'temperature': '15.61'}\n",
            "{'city': 'Baia Mare', 'country': 'Romania', 'latitude': '47.66', 'longitude': '23.58', 'temperature': '8.87'}\n",
            "{'city': 'Balti', 'country': 'Moldova', 'latitude': '47.76', 'longitude': '27.91', 'temperature': '8.23'}\n",
            "{'city': 'Barcelona', 'country': 'Spain', 'latitude': '41.38', 'longitude': '2.18', 'temperature': '15.78'}\n",
            "{'city': 'Bari', 'country': 'Italy', 'latitude': '41.11', 'longitude': '16.87', 'temperature': '15.15'}\n",
            "{'city': 'Basel', 'country': 'Switzerland', 'latitude': '47.58', 'longitude': '7.59', 'temperature': '6.68'}\n",
            "{'city': 'Batman', 'country': 'Turkey', 'latitude': '37.89', 'longitude': '41.14', 'temperature': '14.16'}\n",
            "{'city': 'Belfast', 'country': 'United Kingdom', 'latitude': '54.60', 'longitude': '-5.96', 'temperature': '8.48'}\n",
            "{'city': 'Belgrade', 'country': 'Serbia', 'latitude': '44.82', 'longitude': '20.47', 'temperature': '9.85'}\n",
            "{'city': 'Bergamo', 'country': 'Italy', 'latitude': '45.70', 'longitude': '9.67', 'temperature': '9.12'}\n",
            "{'city': 'Bergen', 'country': 'Norway', 'latitude': '60.39', 'longitude': '5.32', 'temperature': '1.75'}\n",
            "{'city': 'Berlin', 'country': 'Germany', 'latitude': '52.52', 'longitude': '13.40', 'temperature': '8.72'}\n",
            "{'city': 'Bialystok', 'country': 'Poland', 'latitude': '53.15', 'longitude': '23.17', 'temperature': '6.07'}\n",
            "{'city': 'Bielefeld', 'country': 'Germany', 'latitude': '52.03', 'longitude': '8.53', 'temperature': '8.78'}\n",
            "{'city': 'Bila Tserkva', 'country': 'Ukraine', 'latitude': '49.77', 'longitude': '30.13', 'temperature': '6.98'}\n",
            "{'city': 'Bilbao', 'country': 'Spain', 'latitude': '43.25', 'longitude': '-2.93', 'temperature': '11.41'}\n",
            "{'city': 'Birmingham', 'country': 'United Kingdom', 'latitude': '52.47', 'longitude': '-1.92', 'temperature': '8.81'}\n",
            "{'city': 'Blackpool', 'country': 'United Kingdom', 'latitude': '53.83', 'longitude': '-3.05', 'temperature': '9.15'}\n",
            "{'city': 'Bodo', 'country': 'Norway', 'latitude': '67.25', 'longitude': '14.40', 'temperature': '4.50'}\n",
            "{'city': 'Bologna', 'country': 'Italy', 'latitude': '44.50', 'longitude': '11.34', 'temperature': '11.69'}\n",
            "{'city': 'Bonn', 'country': 'Germany', 'latitude': '50.72', 'longitude': '7.08', 'temperature': '8.63'}\n",
            "{'city': 'Bordeaux', 'country': 'France', 'latitude': '44.85', 'longitude': '-0.60', 'temperature': '11.87'}\n",
            "{'city': 'Botosani', 'country': 'Romania', 'latitude': '47.75', 'longitude': '26.66', 'temperature': '8.23'}\n",
            "{'city': 'Bournemouth', 'country': 'United Kingdom', 'latitude': '50.73', 'longitude': '-1.90', 'temperature': '9.97'}\n",
            "{'city': 'Bradford', 'country': 'United Kingdom', 'latitude': '53.80', 'longitude': '-1.75', 'temperature': '8.39'}\n",
            "{'city': 'Braga', 'country': 'Portugal', 'latitude': '41.55', 'longitude': '-8.42', 'temperature': '13.42'}\n",
            "{'city': 'Braila', 'country': 'Romania', 'latitude': '45.29', 'longitude': '27.97', 'temperature': '9.78'}\n",
            "{'city': 'Bratislava', 'country': 'Slovakia', 'latitude': '48.15', 'longitude': '17.12', 'temperature': '9.65'}\n",
            "{'city': 'Bremen', 'country': 'Germany', 'latitude': '53.08', 'longitude': '8.80', 'temperature': '8.14'}\n",
            "{'city': 'Brest', 'country': 'France', 'latitude': '48.39', 'longitude': '-4.50', 'temperature': '11.02'}\n",
            "{'city': 'Brest', 'country': 'Belarus', 'latitude': '52.10', 'longitude': '23.70', 'temperature': '6.73'}\n",
            "{'city': 'Brno', 'country': 'Czech Republic', 'latitude': '49.20', 'longitude': '16.61', 'temperature': '7.86'}\n",
            "{'city': 'Brugge', 'country': 'Belgium', 'latitude': '51.22', 'longitude': '3.23', 'temperature': '9.65'}\n",
            "{'city': 'Bucharest', 'country': 'Romania', 'latitude': '44.43', 'longitude': '26.10', 'temperature': '10.59'}\n",
            "{'city': 'Budapest', 'country': 'Hungary', 'latitude': '47.50', 'longitude': '19.08', 'temperature': '9.55'}\n",
            "{'city': 'Burgas', 'country': 'Bulgaria', 'latitude': '42.51', 'longitude': '27.47', 'temperature': '11.93'}\n",
            "{'city': 'Burgos', 'country': 'Spain', 'latitude': '42.35', 'longitude': '-3.68', 'temperature': '10.45'}\n",
            "{'city': 'Bursa', 'country': 'Turkey', 'latitude': '40.20', 'longitude': '29.07', 'temperature': '11.16'}\n",
            "{'city': 'Bydgoszcz', 'country': 'Poland', 'latitude': '53.12', 'longitude': '18.01', 'temperature': '7.14'}\n",
            "{'city': 'Bytom', 'country': 'Poland', 'latitude': '50.35', 'longitude': '18.91', 'temperature': '7.66'}\n",
            "{'city': 'Caen', 'country': 'France', 'latitude': '49.18', 'longitude': '-0.35', 'temperature': '9.96'}\n",
            "{'city': 'Cambridge', 'country': 'United Kingdom', 'latitude': '52.20', 'longitude': '0.12', 'temperature': '9.25'}\n",
            "{'city': 'Cartagena', 'country': 'Spain', 'latitude': '37.60', 'longitude': '-0.98', 'temperature': '17.32'}\n",
            "{'city': 'Catania', 'country': 'Italy', 'latitude': '37.50', 'longitude': '15.08', 'temperature': '15.04'}\n",
            "{'city': 'Chemnitz', 'country': 'Germany', 'latitude': '50.83', 'longitude': '12.92', 'temperature': '8.05'}\n",
            "{'city': 'Cherkasy', 'country': 'Ukraine', 'latitude': '49.43', 'longitude': '32.07', 'temperature': '7.19'}\n",
            "{'city': 'Chernihiv', 'country': 'Ukraine', 'latitude': '51.50', 'longitude': '31.30', 'temperature': '5.92'}\n",
            "{'city': 'Chernivtsi', 'country': 'Ukraine', 'latitude': '48.31', 'longitude': '25.92', 'temperature': '7.06'}\n",
            "{'city': 'Chisinau', 'country': 'Moldova', 'latitude': '47.01', 'longitude': '28.86', 'temperature': '8.60'}\n",
            "{'city': 'Constanta', 'country': 'Romania', 'latitude': '44.20', 'longitude': '28.61', 'temperature': '11.24'}\n",
            "{'city': 'Cork', 'country': 'Ireland', 'latitude': '51.90', 'longitude': '-8.50', 'temperature': '9.41'}\n",
            "{'city': 'Cosenza', 'country': 'Italy', 'latitude': '39.27', 'longitude': '16.29', 'temperature': '16.60'}\n",
            "{'city': 'Craiova', 'country': 'Romania', 'latitude': '44.33', 'longitude': '23.83', 'temperature': '10.51'}\n",
            "{'city': 'Daugavpils', 'country': 'Latvia', 'latitude': '55.88', 'longitude': '26.51', 'temperature': '5.38'}\n",
            "{'city': 'Debrecen', 'country': 'Hungary', 'latitude': '47.53', 'longitude': '21.63', 'temperature': '8.87'}\n",
            "{'city': 'Denizli', 'country': 'Turkey', 'latitude': '37.77', 'longitude': '29.08', 'temperature': '15.02'}\n",
            "{'city': 'Dijon', 'country': 'France', 'latitude': '47.33', 'longitude': '5.03', 'temperature': '8.69'}\n",
            "{'city': 'Dublin', 'country': 'Ireland', 'latitude': '53.33', 'longitude': '-6.25', 'temperature': '8.49'}\n",
            "{'city': 'Dundee', 'country': 'United Kingdom', 'latitude': '56.47', 'longitude': '-3.00', 'temperature': '6.40'}\n",
            "{'city': 'Edinburgh', 'country': 'United Kingdom', 'latitude': '55.95', 'longitude': '-3.22', 'temperature': '7.43'}\n",
            "{'city': 'Edirne', 'country': 'Turkey', 'latitude': '41.67', 'longitude': '26.57', 'temperature': '10.90'}\n",
            "{'city': 'Elbasan', 'country': 'Albania', 'latitude': '41.12', 'longitude': '20.08', 'temperature': '15.18'}\n",
            "{'city': 'Elblag', 'country': 'Poland', 'latitude': '54.19', 'longitude': '19.40', 'temperature': '6.68'}\n",
            "{'city': 'Erfurt', 'country': 'Germany', 'latitude': '50.97', 'longitude': '11.03', 'temperature': '7.40'}\n",
            "{'city': 'Erzincan', 'country': 'Turkey', 'latitude': '39.75', 'longitude': '39.49', 'temperature': '8.67'}\n",
            "{'city': 'Erzurum', 'country': 'Turkey', 'latitude': '39.92', 'longitude': '41.29', 'temperature': '5.17'}\n",
            "{'city': 'Eskisehir', 'country': 'Turkey', 'latitude': '39.79', 'longitude': '30.53', 'temperature': '11.11'}\n",
            "{'city': 'Exeter', 'country': 'United Kingdom', 'latitude': '50.70', 'longitude': '-3.53', 'temperature': '10.14'}\n",
            "{'city': 'Foggia', 'country': 'Italy', 'latitude': '41.46', 'longitude': '15.56', 'temperature': '13.83'}\n",
            "{'city': 'Frankfurt', 'country': 'Germany', 'latitude': '50.10', 'longitude': '8.68', 'temperature': '7.98'}\n",
            "{'city': 'Freiburg', 'country': 'Germany', 'latitude': '48.00', 'longitude': '7.87', 'temperature': '6.68'}\n",
            "{'city': 'Galway', 'country': 'Ireland', 'latitude': '53.27', 'longitude': '-9.05', 'temperature': '10.00'}\n",
            "{'city': 'Gaziantep', 'country': 'Turkey', 'latitude': '37.07', 'longitude': '37.38', 'temperature': '13.46'}\n",
            "{'city': 'Geneva', 'country': 'Switzerland', 'latitude': '46.21', 'longitude': '6.14', 'temperature': '8.40'}\n",
            "{'city': 'Genoa', 'country': 'Italy', 'latitude': '44.41', 'longitude': '8.93', 'temperature': '12.94'}\n",
            "{'city': 'Glasgow', 'country': 'United Kingdom', 'latitude': '55.87', 'longitude': '-4.25', 'temperature': '8.60'}\n",
            "{'city': 'Göteborg', 'country': 'Sweden', 'latitude': '57.75', 'longitude': '12.00', 'temperature': '5.76'}\n",
            "{'city': 'Granada', 'country': 'Spain', 'latitude': '37.16', 'longitude': '-3.59', 'temperature': '16.33'}\n",
            "{'city': 'Graz', 'country': 'Austria', 'latitude': '47.08', 'longitude': '15.41', 'temperature': '6.91'}\n",
            "{'city': 'Grenoble', 'country': 'France', 'latitude': '45.18', 'longitude': '5.72', 'temperature': '8.40'}\n",
            "{'city': 'Groningen', 'country': 'Netherlands', 'latitude': '53.22', 'longitude': '6.58', 'temperature': '8.71'}\n",
            "{'city': 'Gyor', 'country': 'Hungary', 'latitude': '47.70', 'longitude': '17.63', 'temperature': '9.65'}\n",
            "{'city': 'Heidelberg', 'country': 'Germany', 'latitude': '49.42', 'longitude': '8.70', 'temperature': '8.47'}\n",
            "{'city': 'Helsinki', 'country': 'Finland', 'latitude': '60.18', 'longitude': '24.93', 'temperature': '4.19'}\n",
            "{'city': 'Horlivka', 'country': 'Ukraine', 'latitude': '48.30', 'longitude': '38.05', 'temperature': '7.12'}\n",
            "{'city': 'Hrodna', 'country': 'Belarus', 'latitude': '53.68', 'longitude': '23.83', 'temperature': '6.07'}\n",
            "{'city': 'Huelva', 'country': 'Spain', 'latitude': '37.25', 'longitude': '-6.93', 'temperature': '17.09'}\n",
            "{'city': 'Ingolstadt', 'country': 'Germany', 'latitude': '48.77', 'longitude': '11.45', 'temperature': '7.57'}\n",
            "{'city': 'Innsbruck', 'country': 'Austria', 'latitude': '47.28', 'longitude': '11.41', 'temperature': '4.54'}\n",
            "{'city': 'Inverness', 'country': 'United Kingdom', 'latitude': '57.47', 'longitude': '-4.23', 'temperature': '8.00'}\n",
            "{'city': 'Istanbul', 'country': 'Turkey', 'latitude': '41.10', 'longitude': '29.01', 'temperature': '13.20'}\n",
            "{'city': 'Kalamata', 'country': 'Greece', 'latitude': '37.04', 'longitude': '22.11', 'temperature': '17.30'}\n",
            "{'city': 'Karaman', 'country': 'Turkey', 'latitude': '37.18', 'longitude': '33.22', 'temperature': '10.41'}\n",
            "{'city': 'Karlsruhe', 'country': 'Germany', 'latitude': '49.00', 'longitude': '8.40', 'temperature': '8.88'}\n",
            "{'city': 'Kaunas', 'country': 'Lithuania', 'latitude': '54.95', 'longitude': '23.88', 'temperature': '6.05'}\n",
            "{'city': 'Kayseri', 'country': 'Turkey', 'latitude': '38.73', 'longitude': '35.49', 'temperature': '8.89'}\n",
            "{'city': 'Kherson', 'country': 'Ukraine', 'latitude': '46.63', 'longitude': '32.60', 'temperature': '8.64'}\n",
            "{'city': 'Kielce', 'country': 'Poland', 'latitude': '50.89', 'longitude': '20.66', 'temperature': '7.29'}\n",
            "{'city': 'Kiev', 'country': 'Ukraine', 'latitude': '50.43', 'longitude': '30.52', 'temperature': '6.88'}\n",
            "{'city': 'Kiruna', 'country': 'Sweden', 'latitude': '67.85', 'longitude': '20.22', 'temperature': '-2.20'}\n",
            "{'city': 'Klaipeda', 'country': 'Lithuania', 'latitude': '55.72', 'longitude': '21.12', 'temperature': '7.00'}\n",
            "{'city': 'Kosice', 'country': 'Slovakia', 'latitude': '48.73', 'longitude': '21.25', 'temperature': '7.31'}\n",
            "{'city': 'Koszalin', 'country': 'Poland', 'latitude': '54.20', 'longitude': '16.18', 'temperature': '7.73'}\n",
            "{'city': 'Kremenchuk', 'country': 'Ukraine', 'latitude': '49.08', 'longitude': '33.43', 'temperature': '7.43'}\n",
            "{'city': 'Kryvyy Rih', 'country': 'Ukraine', 'latitude': '47.93', 'longitude': '33.34', 'temperature': '8.61'}\n",
            "{'city': 'Le Mans', 'country': 'France', 'latitude': '48.00', 'longitude': '0.10', 'temperature': '10.59'}\n",
            "{'city': 'Lille', 'country': 'France', 'latitude': '50.65', 'longitude': '3.08', 'temperature': '9.65'}\n",
            "{'city': 'Limoges', 'country': 'France', 'latitude': '45.83', 'longitude': '1.25', 'temperature': '10.32'}\n",
            "{'city': 'Linz', 'country': 'Austria', 'latitude': '48.32', 'longitude': '14.29', 'temperature': '6.79'}\n",
            "{'city': 'Lisbon', 'country': 'Portugal', 'latitude': '38.72', 'longitude': '-9.14', 'temperature': '15.52'}\n",
            "{'city': 'Ljubljana', 'country': 'Slovenia', 'latitude': '46.06', 'longitude': '14.51', 'temperature': '9.27'}\n",
            "{'city': 'Lvov', 'country': 'Ukraine', 'latitude': '49.83', 'longitude': '24.03', 'temperature': '7.04'}\n",
            "{'city': 'Maastricht', 'country': 'Netherlands', 'latitude': '50.85', 'longitude': '5.68', 'temperature': '8.63'}\n",
            "{'city': 'Madrid', 'country': 'Spain', 'latitude': '40.40', 'longitude': '-3.68', 'temperature': '11.19'}\n",
            "{'city': 'Magdeburg', 'country': 'Germany', 'latitude': '52.13', 'longitude': '11.62', 'temperature': '8.26'}\n",
            "{'city': 'Makiyivka', 'country': 'Ukraine', 'latitude': '48.03', 'longitude': '37.97', 'temperature': '8.70'}\n",
            "{'city': 'Malatya', 'country': 'Turkey', 'latitude': '38.37', 'longitude': '38.30', 'temperature': '14.13'}\n",
            "{'city': 'Malmö', 'country': 'Sweden', 'latitude': '55.58', 'longitude': '13.03', 'temperature': '7.33'}\n",
            "{'city': 'Manisa', 'country': 'Turkey', 'latitude': '38.63', 'longitude': '27.44', 'temperature': '15.10'}\n",
            "{'city': 'Marbella', 'country': 'Spain', 'latitude': '36.52', 'longitude': '-4.88', 'temperature': '17.19'}\n",
            "{'city': 'Marseille', 'country': 'France', 'latitude': '43.29', 'longitude': '5.38', 'temperature': '14.98'}\n",
            "{'city': 'Mazyr', 'country': 'Belarus', 'latitude': '52.05', 'longitude': '29.27', 'temperature': '6.25'}\n",
            "{'city': 'Messina', 'country': 'Italy', 'latitude': '38.20', 'longitude': '15.55', 'temperature': '16.54'}\n",
            "{'city': 'Metz', 'country': 'France', 'latitude': '49.12', 'longitude': '6.18', 'temperature': '8.88'}\n",
            "{'city': 'Milan', 'country': 'Italy', 'latitude': '45.47', 'longitude': '9.21', 'temperature': '6.65'}\n",
            "{'city': 'Minsk', 'country': 'Belarus', 'latitude': '53.90', 'longitude': '27.57', 'temperature': '5.28'}\n",
            "{'city': 'Montpellier', 'country': 'France', 'latitude': '43.61', 'longitude': '3.87', 'temperature': '11.11'}\n",
            "{'city': 'Mulhouse', 'country': 'France', 'latitude': '47.75', 'longitude': '7.35', 'temperature': '6.68'}\n",
            "{'city': 'Murcia', 'country': 'Spain', 'latitude': '37.98', 'longitude': '-1.13', 'temperature': '15.00'}\n",
            "{'city': 'Nice', 'country': 'France', 'latitude': '43.72', 'longitude': '7.27', 'temperature': '8.82'}\n",
            "{'city': 'Nis', 'country': 'Serbia', 'latitude': '43.33', 'longitude': '21.90', 'temperature': '9.36'}\n",
            "{'city': 'Novi Sad', 'country': 'Serbia', 'latitude': '45.25', 'longitude': '19.85', 'temperature': '10.34'}\n",
            "{'city': 'Odense', 'country': 'Denmark', 'latitude': '55.40', 'longitude': '10.38', 'temperature': '7.73'}\n",
            "{'city': 'Ordu', 'country': 'Turkey', 'latitude': '41.00', 'longitude': '37.87', 'temperature': '11.92'}\n",
            "{'city': 'Orsha', 'country': 'Belarus', 'latitude': '54.52', 'longitude': '30.42', 'temperature': '4.93'}\n",
            "{'city': 'Oslo', 'country': 'Norway', 'latitude': '59.92', 'longitude': '10.75', 'temperature': '2.32'}\n",
            "{'city': 'Ostrava', 'country': 'Czech Republic', 'latitude': '49.83', 'longitude': '18.25', 'temperature': '7.66'}\n",
            "{'city': 'Oulu', 'country': 'Finland', 'latitude': '65.00', 'longitude': '25.47', 'temperature': '1.45'}\n",
            "{'city': 'Oviedo', 'country': 'Spain', 'latitude': '43.35', 'longitude': '-5.83', 'temperature': '10.85'}\n",
            "{'city': 'Palermo', 'country': 'Italy', 'latitude': '38.13', 'longitude': '13.35', 'temperature': '17.90'}\n",
            "{'city': 'Patras', 'country': 'Greece', 'latitude': '38.23', 'longitude': '21.73', 'temperature': '16.90'}\n",
            "{'city': 'Perpignan', 'country': 'France', 'latitude': '42.70', 'longitude': '2.90', 'temperature': '10.95'}\n",
            "{'city': 'Perugia', 'country': 'Italy', 'latitude': '43.11', 'longitude': '12.39', 'temperature': '11.70'}\n",
            "{'city': 'Pescara', 'country': 'Italy', 'latitude': '42.46', 'longitude': '14.22', 'temperature': '15.13'}\n",
            "{'city': 'Pinsk', 'country': 'Belarus', 'latitude': '52.13', 'longitude': '26.09', 'temperature': '6.42'}\n",
            "{'city': 'Pleven', 'country': 'Bulgaria', 'latitude': '43.42', 'longitude': '24.61', 'temperature': '10.51'}\n",
            "{'city': 'Plovdiv', 'country': 'Bulgaria', 'latitude': '42.15', 'longitude': '24.75', 'temperature': '8.27'}\n",
            "{'city': 'Podgorica', 'country': 'Montenegro', 'latitude': '42.47', 'longitude': '19.27', 'temperature': '9.99'}\n",
            "{'city': 'Poznan', 'country': 'Poland', 'latitude': '52.41', 'longitude': '16.90', 'temperature': '8.31'}\n",
            "{'city': 'Prague', 'country': 'Czech Republic', 'latitude': '50.08', 'longitude': '14.47', 'temperature': '8.05'}\n",
            "{'city': 'Reims', 'country': 'France', 'latitude': '49.25', 'longitude': '4.03', 'temperature': '9.40'}\n",
            "{'city': 'Riga', 'country': 'Latvia', 'latitude': '56.95', 'longitude': '24.10', 'temperature': '5.16'}\n",
            "{'city': 'Rijeka', 'country': 'Croatia', 'latitude': '45.33', 'longitude': '14.45', 'temperature': '9.27'}\n",
            "{'city': 'Rivne', 'country': 'Ukraine', 'latitude': '50.62', 'longitude': '26.25', 'temperature': '6.76'}\n",
            "{'city': 'Rome', 'country': 'Italy', 'latitude': '41.90', 'longitude': '12.48', 'temperature': '15.10'}\n",
            "{'city': 'Rostock', 'country': 'Germany', 'latitude': '54.07', 'longitude': '12.15', 'temperature': '8.07'}\n",
            "{'city': 'Ruse', 'country': 'Bulgaria', 'latitude': '43.85', 'longitude': '25.97', 'temperature': '10.59'}\n",
            "{'city': 'Salamanca', 'country': 'Spain', 'latitude': '40.97', 'longitude': '-5.67', 'temperature': '11.63'}\n",
            "{'city': 'Salzburg', 'country': 'Austria', 'latitude': '47.81', 'longitude': '13.04', 'temperature': '4.62'}\n",
            "{'city': 'Samsun', 'country': 'Turkey', 'latitude': '41.28', 'longitude': '36.34', 'temperature': '12.05'}\n",
            "{'city': 'Santander', 'country': 'Spain', 'latitude': '43.38', 'longitude': '-3.80', 'temperature': '13.40'}\n",
            "{'city': 'Sarajevo', 'country': 'Bosnia and Herzegovina', 'latitude': '43.85', 'longitude': '13.38', 'temperature': '9.60'}\n",
            "{'city': 'Sibiu', 'country': 'Romania', 'latitude': '45.80', 'longitude': '24.14', 'temperature': '6.97'}\n",
            "{'city': 'Siirt', 'country': 'Turkey', 'latitude': '37.94', 'longitude': '41.93', 'temperature': '12.48'}\n",
            "{'city': 'Sivas', 'country': 'Turkey', 'latitude': '39.75', 'longitude': '37.03', 'temperature': '8.05'}\n",
            "{'city': 'Skopje', 'country': 'Macedonia', 'latitude': '42.00', 'longitude': '21.43', 'temperature': '9.36'}\n",
            "{'city': 'Split', 'country': 'Croatia', 'latitude': '43.52', 'longitude': '16.47', 'temperature': '12.46'}\n",
            "{'city': 'Stara Zagora', 'country': 'Bulgaria', 'latitude': '42.42', 'longitude': '25.62', 'temperature': '10.90'}\n",
            "{'city': 'Stavanger', 'country': 'Norway', 'latitude': '58.97', 'longitude': '5.68', 'temperature': '5.53'}\n",
            "{'city': 'Stockholm', 'country': 'Sweden', 'latitude': '59.35', 'longitude': '18.10', 'temperature': '6.26'}\n",
            "{'city': 'Sumy', 'country': 'Ukraine', 'latitude': '50.92', 'longitude': '34.78', 'temperature': '6.28'}\n",
            "{'city': 'Swansea', 'country': 'United Kingdom', 'latitude': '51.63', 'longitude': '-3.95', 'temperature': '9.73'}\n",
            "{'city': 'Szeged', 'country': 'Hungary', 'latitude': '46.25', 'longitude': '20.15', 'temperature': '10.34'}\n",
            "{'city': 'Tallinn', 'country': 'Estonia', 'latitude': '59.43', 'longitude': '24.73', 'temperature': '4.82'}\n",
            "{'city': 'Tampere', 'country': 'Finland', 'latitude': '61.50', 'longitude': '23.75', 'temperature': '3.59'}\n",
            "{'city': 'Tarsus', 'country': 'Turkey', 'latitude': '36.92', 'longitude': '34.88', 'temperature': '11.21'}\n",
            "{'city': 'Tartu', 'country': 'Estonia', 'latitude': '58.38', 'longitude': '26.71', 'temperature': '4.36'}\n",
            "{'city': 'Tekirdag', 'country': 'Turkey', 'latitude': '40.99', 'longitude': '27.51', 'temperature': '13.02'}\n",
            "{'city': 'Toulouse', 'country': 'France', 'latitude': '43.62', 'longitude': '1.45', 'temperature': '10.25'}\n",
            "{'city': 'Trabzon', 'country': 'Turkey', 'latitude': '40.98', 'longitude': '39.72', 'temperature': '10.28'}\n",
            "{'city': 'Trieste', 'country': 'Italy', 'latitude': '45.65', 'longitude': '13.80', 'temperature': '11.21'}\n",
            "{'city': 'Trikala', 'country': 'Greece', 'latitude': '39.56', 'longitude': '21.77', 'temperature': '16.00'}\n",
            "{'city': 'Trondheim', 'country': 'Norway', 'latitude': '63.42', 'longitude': '10.42', 'temperature': '4.53'}\n",
            "{'city': 'Turku', 'country': 'Finland', 'latitude': '60.45', 'longitude': '22.25', 'temperature': '4.72'}\n",
            "{'city': 'Uppsala', 'country': 'Sweden', 'latitude': '59.86', 'longitude': '17.64', 'temperature': '4.17'}\n",
            "{'city': 'Valencia', 'country': 'Spain', 'latitude': '39.49', 'longitude': '-0.40', 'temperature': '16.02'}\n",
            "{'city': 'Vienna', 'country': 'Austria', 'latitude': '48.20', 'longitude': '16.37', 'temperature': '7.86'}\n",
            "{'city': 'Vigo', 'country': 'Spain', 'latitude': '42.22', 'longitude': '-8.73', 'temperature': '12.85'}\n",
            "{'city': 'Vilnius', 'country': 'Lithuania', 'latitude': '54.68', 'longitude': '25.32', 'temperature': '5.38'}\n",
            "{'city': 'Warsaw', 'country': 'Poland', 'latitude': '52.25', 'longitude': '21.00', 'temperature': '7.20'}\n",
            "{'city': 'Wroclaw', 'country': 'Poland', 'latitude': '51.11', 'longitude': '17.03', 'temperature': '7.17'}\n",
            "{'city': 'Yevpatoriya', 'country': 'Ukraine', 'latitude': '45.20', 'longitude': '33.36', 'temperature': '10.02'}\n",
            "{'city': 'Zaragoza', 'country': 'Spain', 'latitude': '41.65', 'longitude': '-0.89', 'temperature': '14.17'}\n",
            "{'city': 'Zhytomyr', 'country': 'Ukraine', 'latitude': '50.25', 'longitude': '28.66', 'temperature': '6.67'}\n",
            "{'city': 'Zonguldak', 'country': 'Turkey', 'latitude': '41.43', 'longitude': '31.78', 'temperature': '10.64'}\n",
            "{'city': 'Zurich', 'country': 'Switzerland', 'latitude': '47.38', 'longitude': '8.56', 'temperature': '6.68'}\n"
          ]
        }
      ],
      "source": [
        "# Use csv package 'DictReader' to read Cities.csv data\n",
        "# Make sure data file is in same folder as notebook\n",
        "# After header, data is read row-by-row into dictionary format\n",
        "# Note all values are read as strings\n",
        "with open('Cities.csv') as f:\n",
        "    rows = csv.DictReader(f)\n",
        "    for r in rows:\n",
        "        print(dict(r))"
      ]
    },
    {
      "cell_type": "code",
      "source": [
        "import csv\n",
        "\n",
        "# Número máximo de filas que deseas imprimir\n",
        "max_filas = 5\n",
        "\n",
        "with open('Cities.csv') as f:\n",
        "    rows = csv.DictReader(f)\n",
        "    contador = 0\n",
        "    for r in rows:\n",
        "        if contador < max_filas:\n",
        "            print(dict(r))\n",
        "            contador += 1\n",
        "        else:\n",
        "            break  # Salir del bucle después de imprimir el número máximo de filas"
      ],
      "metadata": {
        "colab": {
          "base_uri": "https://localhost:8080/"
        },
        "id": "rNCZZyC1mi_r",
        "outputId": "3f6a11e1-f8b0-4159-e254-2ceffe084674"
      },
      "execution_count": 4,
      "outputs": [
        {
          "output_type": "stream",
          "name": "stdout",
          "text": [
            "{'city': 'Aalborg', 'country': 'Denmark', 'latitude': '57.03', 'longitude': '9.92', 'temperature': '7.52'}\n",
            "{'city': 'Aberdeen', 'country': 'United Kingdom', 'latitude': '57.17', 'longitude': '-2.08', 'temperature': '8.10'}\n",
            "{'city': 'Abisko', 'country': 'Sweden', 'latitude': '63.35', 'longitude': '18.83', 'temperature': '0.20'}\n",
            "{'city': 'Adana', 'country': 'Turkey', 'latitude': '36.99', 'longitude': '35.32', 'temperature': '18.67'}\n",
            "{'city': 'Albacete', 'country': 'Spain', 'latitude': '39.00', 'longitude': '-1.87', 'temperature': '12.62'}\n"
          ]
        }
      ]
    },
    {
      "cell_type": "code",
      "execution_count": null,
      "metadata": {
        "id": "aIil57kyoTB5",
        "colab": {
          "base_uri": "https://localhost:8080/"
        },
        "outputId": "02791523-7791-476e-bf01-31b89d962c10"
      },
      "outputs": [
        {
          "output_type": "stream",
          "name": "stdout",
          "text": [
            "Aberdeen -2.08\n",
            "Albacete -1.87\n",
            "Algeciras -5.47\n",
            "Angers -0.53\n",
            "Badajoz -6.97\n",
            "Belfast -5.96\n",
            "Bilbao -2.93\n",
            "Birmingham -1.92\n",
            "Blackpool -3.05\n",
            "Bordeaux -0.60\n",
            "Bournemouth -1.90\n",
            "Bradford -1.75\n",
            "Braga -8.42\n",
            "Brest -4.50\n",
            "Burgos -3.68\n",
            "Caen -0.35\n",
            "Cartagena -0.98\n",
            "Cork -8.50\n",
            "Dublin -6.25\n",
            "Dundee -3.00\n",
            "Edinburgh -3.22\n",
            "Exeter -3.53\n",
            "Galway -9.05\n",
            "Glasgow -4.25\n",
            "Granada -3.59\n",
            "Huelva -6.93\n",
            "Inverness -4.23\n",
            "Lisbon -9.14\n",
            "Madrid -3.68\n",
            "Marbella -4.88\n",
            "Murcia -1.13\n",
            "Oviedo -5.83\n",
            "Salamanca -5.67\n",
            "Santander -3.80\n",
            "Swansea -3.95\n",
            "Valencia -0.40\n",
            "Vigo -8.73\n",
            "Zaragoza -0.89\n"
          ]
        }
      ],
      "source": [
        "# Print the city and longitude of all cities with longitude < 0\n",
        "with open('Cities.csv') as f:\n",
        "    rows = csv.DictReader(f)\n",
        "    for r in rows:\n",
        "        if float(r['longitude']) < 0:\n",
        "            print(r['city'], r['longitude'])\n",
        "# Show what happens without float()"
      ]
    },
    {
      "cell_type": "markdown",
      "metadata": {
        "id": "m0Cnk3-OoTB5"
      },
      "source": [
        "### <font color=\"green\">**Your Turn**</font>"
      ]
    },
    {
      "cell_type": "code",
      "execution_count": null,
      "metadata": {
        "id": "mSbdhJs4oTB5"
      },
      "outputs": [],
      "source": [
        "# Using csv package 'DictReader' to read Countries.csv data,\n",
        "# find all countries that have coastline and are not in the EU;\n",
        "# print the countries and their populations\n",
        "# Note: In Python, use '==' to test equality\n",
        "YOUR CODE HERE"
      ]
    },
    {
      "cell_type": "markdown",
      "metadata": {
        "id": "og8SSmsRoTB6"
      },
      "source": [
        "### Reading data into Python data structures"
      ]
    },
    {
      "cell_type": "code",
      "execution_count": null,
      "metadata": {
        "id": "Gi0HVh3ToTB6",
        "colab": {
          "base_uri": "https://localhost:8080/"
        },
        "outputId": "8c07edef-72ce-4133-e8f8-415de71886cd"
      },
      "outputs": [
        {
          "output_type": "stream",
          "name": "stdout",
          "text": [
            "[{'city': 'Aalborg', 'country': 'Denmark', 'latitude': '57.03', 'longitude': '9.92', 'temperature': '7.52'}, {'city': 'Aberdeen', 'country': 'United Kingdom', 'latitude': '57.17', 'longitude': '-2.08', 'temperature': '8.10'}, {'city': 'Abisko', 'country': 'Sweden', 'latitude': '63.35', 'longitude': '18.83', 'temperature': '0.20'}, {'city': 'Adana', 'country': 'Turkey', 'latitude': '36.99', 'longitude': '35.32', 'temperature': '18.67'}, {'city': 'Albacete', 'country': 'Spain', 'latitude': '39.00', 'longitude': '-1.87', 'temperature': '12.62'}, {'city': 'Algeciras', 'country': 'Spain', 'latitude': '36.13', 'longitude': '-5.47', 'temperature': '17.38'}, {'city': 'Amiens', 'country': 'France', 'latitude': '49.90', 'longitude': '2.30', 'temperature': '10.17'}, {'city': 'Amsterdam', 'country': 'Netherlands', 'latitude': '52.35', 'longitude': '4.92', 'temperature': '8.93'}, {'city': 'Ancona', 'country': 'Italy', 'latitude': '43.60', 'longitude': '13.50', 'temperature': '13.52'}, {'city': 'Andorra', 'country': 'Andorra', 'latitude': '42.50', 'longitude': '1.52', 'temperature': '9.60'}, {'city': 'Angers', 'country': 'France', 'latitude': '47.48', 'longitude': '-0.53', 'temperature': '10.98'}, {'city': 'Ankara', 'country': 'Turkey', 'latitude': '39.93', 'longitude': '32.86', 'temperature': '9.86'}, {'city': 'Antalya', 'country': 'Turkey', 'latitude': '36.89', 'longitude': '30.70', 'temperature': '11.88'}, {'city': 'Arad', 'country': 'Romania', 'latitude': '46.17', 'longitude': '21.32', 'temperature': '9.32'}, {'city': 'Athens', 'country': 'Greece', 'latitude': '37.98', 'longitude': '23.73', 'temperature': '17.41'}, {'city': 'Augsburg', 'country': 'Germany', 'latitude': '48.35', 'longitude': '10.90', 'temperature': '4.54'}, {'city': 'Bacau', 'country': 'Romania', 'latitude': '46.58', 'longitude': '26.92', 'temperature': '7.51'}, {'city': 'Badajoz', 'country': 'Spain', 'latitude': '38.88', 'longitude': '-6.97', 'temperature': '15.61'}, {'city': 'Baia Mare', 'country': 'Romania', 'latitude': '47.66', 'longitude': '23.58', 'temperature': '8.87'}, {'city': 'Balti', 'country': 'Moldova', 'latitude': '47.76', 'longitude': '27.91', 'temperature': '8.23'}, {'city': 'Barcelona', 'country': 'Spain', 'latitude': '41.38', 'longitude': '2.18', 'temperature': '15.78'}, {'city': 'Bari', 'country': 'Italy', 'latitude': '41.11', 'longitude': '16.87', 'temperature': '15.15'}, {'city': 'Basel', 'country': 'Switzerland', 'latitude': '47.58', 'longitude': '7.59', 'temperature': '6.68'}, {'city': 'Batman', 'country': 'Turkey', 'latitude': '37.89', 'longitude': '41.14', 'temperature': '14.16'}, {'city': 'Belfast', 'country': 'United Kingdom', 'latitude': '54.60', 'longitude': '-5.96', 'temperature': '8.48'}, {'city': 'Belgrade', 'country': 'Serbia', 'latitude': '44.82', 'longitude': '20.47', 'temperature': '9.85'}, {'city': 'Bergamo', 'country': 'Italy', 'latitude': '45.70', 'longitude': '9.67', 'temperature': '9.12'}, {'city': 'Bergen', 'country': 'Norway', 'latitude': '60.39', 'longitude': '5.32', 'temperature': '1.75'}, {'city': 'Berlin', 'country': 'Germany', 'latitude': '52.52', 'longitude': '13.40', 'temperature': '8.72'}, {'city': 'Bialystok', 'country': 'Poland', 'latitude': '53.15', 'longitude': '23.17', 'temperature': '6.07'}, {'city': 'Bielefeld', 'country': 'Germany', 'latitude': '52.03', 'longitude': '8.53', 'temperature': '8.78'}, {'city': 'Bila Tserkva', 'country': 'Ukraine', 'latitude': '49.77', 'longitude': '30.13', 'temperature': '6.98'}, {'city': 'Bilbao', 'country': 'Spain', 'latitude': '43.25', 'longitude': '-2.93', 'temperature': '11.41'}, {'city': 'Birmingham', 'country': 'United Kingdom', 'latitude': '52.47', 'longitude': '-1.92', 'temperature': '8.81'}, {'city': 'Blackpool', 'country': 'United Kingdom', 'latitude': '53.83', 'longitude': '-3.05', 'temperature': '9.15'}, {'city': 'Bodo', 'country': 'Norway', 'latitude': '67.25', 'longitude': '14.40', 'temperature': '4.50'}, {'city': 'Bologna', 'country': 'Italy', 'latitude': '44.50', 'longitude': '11.34', 'temperature': '11.69'}, {'city': 'Bonn', 'country': 'Germany', 'latitude': '50.72', 'longitude': '7.08', 'temperature': '8.63'}, {'city': 'Bordeaux', 'country': 'France', 'latitude': '44.85', 'longitude': '-0.60', 'temperature': '11.87'}, {'city': 'Botosani', 'country': 'Romania', 'latitude': '47.75', 'longitude': '26.66', 'temperature': '8.23'}, {'city': 'Bournemouth', 'country': 'United Kingdom', 'latitude': '50.73', 'longitude': '-1.90', 'temperature': '9.97'}, {'city': 'Bradford', 'country': 'United Kingdom', 'latitude': '53.80', 'longitude': '-1.75', 'temperature': '8.39'}, {'city': 'Braga', 'country': 'Portugal', 'latitude': '41.55', 'longitude': '-8.42', 'temperature': '13.42'}, {'city': 'Braila', 'country': 'Romania', 'latitude': '45.29', 'longitude': '27.97', 'temperature': '9.78'}, {'city': 'Bratislava', 'country': 'Slovakia', 'latitude': '48.15', 'longitude': '17.12', 'temperature': '9.65'}, {'city': 'Bremen', 'country': 'Germany', 'latitude': '53.08', 'longitude': '8.80', 'temperature': '8.14'}, {'city': 'Brest', 'country': 'France', 'latitude': '48.39', 'longitude': '-4.50', 'temperature': '11.02'}, {'city': 'Brest', 'country': 'Belarus', 'latitude': '52.10', 'longitude': '23.70', 'temperature': '6.73'}, {'city': 'Brno', 'country': 'Czech Republic', 'latitude': '49.20', 'longitude': '16.61', 'temperature': '7.86'}, {'city': 'Brugge', 'country': 'Belgium', 'latitude': '51.22', 'longitude': '3.23', 'temperature': '9.65'}, {'city': 'Bucharest', 'country': 'Romania', 'latitude': '44.43', 'longitude': '26.10', 'temperature': '10.59'}, {'city': 'Budapest', 'country': 'Hungary', 'latitude': '47.50', 'longitude': '19.08', 'temperature': '9.55'}, {'city': 'Burgas', 'country': 'Bulgaria', 'latitude': '42.51', 'longitude': '27.47', 'temperature': '11.93'}, {'city': 'Burgos', 'country': 'Spain', 'latitude': '42.35', 'longitude': '-3.68', 'temperature': '10.45'}, {'city': 'Bursa', 'country': 'Turkey', 'latitude': '40.20', 'longitude': '29.07', 'temperature': '11.16'}, {'city': 'Bydgoszcz', 'country': 'Poland', 'latitude': '53.12', 'longitude': '18.01', 'temperature': '7.14'}, {'city': 'Bytom', 'country': 'Poland', 'latitude': '50.35', 'longitude': '18.91', 'temperature': '7.66'}, {'city': 'Caen', 'country': 'France', 'latitude': '49.18', 'longitude': '-0.35', 'temperature': '9.96'}, {'city': 'Cambridge', 'country': 'United Kingdom', 'latitude': '52.20', 'longitude': '0.12', 'temperature': '9.25'}, {'city': 'Cartagena', 'country': 'Spain', 'latitude': '37.60', 'longitude': '-0.98', 'temperature': '17.32'}, {'city': 'Catania', 'country': 'Italy', 'latitude': '37.50', 'longitude': '15.08', 'temperature': '15.04'}, {'city': 'Chemnitz', 'country': 'Germany', 'latitude': '50.83', 'longitude': '12.92', 'temperature': '8.05'}, {'city': 'Cherkasy', 'country': 'Ukraine', 'latitude': '49.43', 'longitude': '32.07', 'temperature': '7.19'}, {'city': 'Chernihiv', 'country': 'Ukraine', 'latitude': '51.50', 'longitude': '31.30', 'temperature': '5.92'}, {'city': 'Chernivtsi', 'country': 'Ukraine', 'latitude': '48.31', 'longitude': '25.92', 'temperature': '7.06'}, {'city': 'Chisinau', 'country': 'Moldova', 'latitude': '47.01', 'longitude': '28.86', 'temperature': '8.60'}, {'city': 'Constanta', 'country': 'Romania', 'latitude': '44.20', 'longitude': '28.61', 'temperature': '11.24'}, {'city': 'Cork', 'country': 'Ireland', 'latitude': '51.90', 'longitude': '-8.50', 'temperature': '9.41'}, {'city': 'Cosenza', 'country': 'Italy', 'latitude': '39.27', 'longitude': '16.29', 'temperature': '16.60'}, {'city': 'Craiova', 'country': 'Romania', 'latitude': '44.33', 'longitude': '23.83', 'temperature': '10.51'}, {'city': 'Daugavpils', 'country': 'Latvia', 'latitude': '55.88', 'longitude': '26.51', 'temperature': '5.38'}, {'city': 'Debrecen', 'country': 'Hungary', 'latitude': '47.53', 'longitude': '21.63', 'temperature': '8.87'}, {'city': 'Denizli', 'country': 'Turkey', 'latitude': '37.77', 'longitude': '29.08', 'temperature': '15.02'}, {'city': 'Dijon', 'country': 'France', 'latitude': '47.33', 'longitude': '5.03', 'temperature': '8.69'}, {'city': 'Dublin', 'country': 'Ireland', 'latitude': '53.33', 'longitude': '-6.25', 'temperature': '8.49'}, {'city': 'Dundee', 'country': 'United Kingdom', 'latitude': '56.47', 'longitude': '-3.00', 'temperature': '6.40'}, {'city': 'Edinburgh', 'country': 'United Kingdom', 'latitude': '55.95', 'longitude': '-3.22', 'temperature': '7.43'}, {'city': 'Edirne', 'country': 'Turkey', 'latitude': '41.67', 'longitude': '26.57', 'temperature': '10.90'}, {'city': 'Elbasan', 'country': 'Albania', 'latitude': '41.12', 'longitude': '20.08', 'temperature': '15.18'}, {'city': 'Elblag', 'country': 'Poland', 'latitude': '54.19', 'longitude': '19.40', 'temperature': '6.68'}, {'city': 'Erfurt', 'country': 'Germany', 'latitude': '50.97', 'longitude': '11.03', 'temperature': '7.40'}, {'city': 'Erzincan', 'country': 'Turkey', 'latitude': '39.75', 'longitude': '39.49', 'temperature': '8.67'}, {'city': 'Erzurum', 'country': 'Turkey', 'latitude': '39.92', 'longitude': '41.29', 'temperature': '5.17'}, {'city': 'Eskisehir', 'country': 'Turkey', 'latitude': '39.79', 'longitude': '30.53', 'temperature': '11.11'}, {'city': 'Exeter', 'country': 'United Kingdom', 'latitude': '50.70', 'longitude': '-3.53', 'temperature': '10.14'}, {'city': 'Foggia', 'country': 'Italy', 'latitude': '41.46', 'longitude': '15.56', 'temperature': '13.83'}, {'city': 'Frankfurt', 'country': 'Germany', 'latitude': '50.10', 'longitude': '8.68', 'temperature': '7.98'}, {'city': 'Freiburg', 'country': 'Germany', 'latitude': '48.00', 'longitude': '7.87', 'temperature': '6.68'}, {'city': 'Galway', 'country': 'Ireland', 'latitude': '53.27', 'longitude': '-9.05', 'temperature': '10.00'}, {'city': 'Gaziantep', 'country': 'Turkey', 'latitude': '37.07', 'longitude': '37.38', 'temperature': '13.46'}, {'city': 'Geneva', 'country': 'Switzerland', 'latitude': '46.21', 'longitude': '6.14', 'temperature': '8.40'}, {'city': 'Genoa', 'country': 'Italy', 'latitude': '44.41', 'longitude': '8.93', 'temperature': '12.94'}, {'city': 'Glasgow', 'country': 'United Kingdom', 'latitude': '55.87', 'longitude': '-4.25', 'temperature': '8.60'}, {'city': 'Göteborg', 'country': 'Sweden', 'latitude': '57.75', 'longitude': '12.00', 'temperature': '5.76'}, {'city': 'Granada', 'country': 'Spain', 'latitude': '37.16', 'longitude': '-3.59', 'temperature': '16.33'}, {'city': 'Graz', 'country': 'Austria', 'latitude': '47.08', 'longitude': '15.41', 'temperature': '6.91'}, {'city': 'Grenoble', 'country': 'France', 'latitude': '45.18', 'longitude': '5.72', 'temperature': '8.40'}, {'city': 'Groningen', 'country': 'Netherlands', 'latitude': '53.22', 'longitude': '6.58', 'temperature': '8.71'}, {'city': 'Gyor', 'country': 'Hungary', 'latitude': '47.70', 'longitude': '17.63', 'temperature': '9.65'}, {'city': 'Heidelberg', 'country': 'Germany', 'latitude': '49.42', 'longitude': '8.70', 'temperature': '8.47'}, {'city': 'Helsinki', 'country': 'Finland', 'latitude': '60.18', 'longitude': '24.93', 'temperature': '4.19'}, {'city': 'Horlivka', 'country': 'Ukraine', 'latitude': '48.30', 'longitude': '38.05', 'temperature': '7.12'}, {'city': 'Hrodna', 'country': 'Belarus', 'latitude': '53.68', 'longitude': '23.83', 'temperature': '6.07'}, {'city': 'Huelva', 'country': 'Spain', 'latitude': '37.25', 'longitude': '-6.93', 'temperature': '17.09'}, {'city': 'Ingolstadt', 'country': 'Germany', 'latitude': '48.77', 'longitude': '11.45', 'temperature': '7.57'}, {'city': 'Innsbruck', 'country': 'Austria', 'latitude': '47.28', 'longitude': '11.41', 'temperature': '4.54'}, {'city': 'Inverness', 'country': 'United Kingdom', 'latitude': '57.47', 'longitude': '-4.23', 'temperature': '8.00'}, {'city': 'Istanbul', 'country': 'Turkey', 'latitude': '41.10', 'longitude': '29.01', 'temperature': '13.20'}, {'city': 'Kalamata', 'country': 'Greece', 'latitude': '37.04', 'longitude': '22.11', 'temperature': '17.30'}, {'city': 'Karaman', 'country': 'Turkey', 'latitude': '37.18', 'longitude': '33.22', 'temperature': '10.41'}, {'city': 'Karlsruhe', 'country': 'Germany', 'latitude': '49.00', 'longitude': '8.40', 'temperature': '8.88'}, {'city': 'Kaunas', 'country': 'Lithuania', 'latitude': '54.95', 'longitude': '23.88', 'temperature': '6.05'}, {'city': 'Kayseri', 'country': 'Turkey', 'latitude': '38.73', 'longitude': '35.49', 'temperature': '8.89'}, {'city': 'Kherson', 'country': 'Ukraine', 'latitude': '46.63', 'longitude': '32.60', 'temperature': '8.64'}, {'city': 'Kielce', 'country': 'Poland', 'latitude': '50.89', 'longitude': '20.66', 'temperature': '7.29'}, {'city': 'Kiev', 'country': 'Ukraine', 'latitude': '50.43', 'longitude': '30.52', 'temperature': '6.88'}, {'city': 'Kiruna', 'country': 'Sweden', 'latitude': '67.85', 'longitude': '20.22', 'temperature': '-2.20'}, {'city': 'Klaipeda', 'country': 'Lithuania', 'latitude': '55.72', 'longitude': '21.12', 'temperature': '7.00'}, {'city': 'Kosice', 'country': 'Slovakia', 'latitude': '48.73', 'longitude': '21.25', 'temperature': '7.31'}, {'city': 'Koszalin', 'country': 'Poland', 'latitude': '54.20', 'longitude': '16.18', 'temperature': '7.73'}, {'city': 'Kremenchuk', 'country': 'Ukraine', 'latitude': '49.08', 'longitude': '33.43', 'temperature': '7.43'}, {'city': 'Kryvyy Rih', 'country': 'Ukraine', 'latitude': '47.93', 'longitude': '33.34', 'temperature': '8.61'}, {'city': 'Le Mans', 'country': 'France', 'latitude': '48.00', 'longitude': '0.10', 'temperature': '10.59'}, {'city': 'Lille', 'country': 'France', 'latitude': '50.65', 'longitude': '3.08', 'temperature': '9.65'}, {'city': 'Limoges', 'country': 'France', 'latitude': '45.83', 'longitude': '1.25', 'temperature': '10.32'}, {'city': 'Linz', 'country': 'Austria', 'latitude': '48.32', 'longitude': '14.29', 'temperature': '6.79'}, {'city': 'Lisbon', 'country': 'Portugal', 'latitude': '38.72', 'longitude': '-9.14', 'temperature': '15.52'}, {'city': 'Ljubljana', 'country': 'Slovenia', 'latitude': '46.06', 'longitude': '14.51', 'temperature': '9.27'}, {'city': 'Lvov', 'country': 'Ukraine', 'latitude': '49.83', 'longitude': '24.03', 'temperature': '7.04'}, {'city': 'Maastricht', 'country': 'Netherlands', 'latitude': '50.85', 'longitude': '5.68', 'temperature': '8.63'}, {'city': 'Madrid', 'country': 'Spain', 'latitude': '40.40', 'longitude': '-3.68', 'temperature': '11.19'}, {'city': 'Magdeburg', 'country': 'Germany', 'latitude': '52.13', 'longitude': '11.62', 'temperature': '8.26'}, {'city': 'Makiyivka', 'country': 'Ukraine', 'latitude': '48.03', 'longitude': '37.97', 'temperature': '8.70'}, {'city': 'Malatya', 'country': 'Turkey', 'latitude': '38.37', 'longitude': '38.30', 'temperature': '14.13'}, {'city': 'Malmö', 'country': 'Sweden', 'latitude': '55.58', 'longitude': '13.03', 'temperature': '7.33'}, {'city': 'Manisa', 'country': 'Turkey', 'latitude': '38.63', 'longitude': '27.44', 'temperature': '15.10'}, {'city': 'Marbella', 'country': 'Spain', 'latitude': '36.52', 'longitude': '-4.88', 'temperature': '17.19'}, {'city': 'Marseille', 'country': 'France', 'latitude': '43.29', 'longitude': '5.38', 'temperature': '14.98'}, {'city': 'Mazyr', 'country': 'Belarus', 'latitude': '52.05', 'longitude': '29.27', 'temperature': '6.25'}, {'city': 'Messina', 'country': 'Italy', 'latitude': '38.20', 'longitude': '15.55', 'temperature': '16.54'}, {'city': 'Metz', 'country': 'France', 'latitude': '49.12', 'longitude': '6.18', 'temperature': '8.88'}, {'city': 'Milan', 'country': 'Italy', 'latitude': '45.47', 'longitude': '9.21', 'temperature': '6.65'}, {'city': 'Minsk', 'country': 'Belarus', 'latitude': '53.90', 'longitude': '27.57', 'temperature': '5.28'}, {'city': 'Montpellier', 'country': 'France', 'latitude': '43.61', 'longitude': '3.87', 'temperature': '11.11'}, {'city': 'Mulhouse', 'country': 'France', 'latitude': '47.75', 'longitude': '7.35', 'temperature': '6.68'}, {'city': 'Murcia', 'country': 'Spain', 'latitude': '37.98', 'longitude': '-1.13', 'temperature': '15.00'}, {'city': 'Nice', 'country': 'France', 'latitude': '43.72', 'longitude': '7.27', 'temperature': '8.82'}, {'city': 'Nis', 'country': 'Serbia', 'latitude': '43.33', 'longitude': '21.90', 'temperature': '9.36'}, {'city': 'Novi Sad', 'country': 'Serbia', 'latitude': '45.25', 'longitude': '19.85', 'temperature': '10.34'}, {'city': 'Odense', 'country': 'Denmark', 'latitude': '55.40', 'longitude': '10.38', 'temperature': '7.73'}, {'city': 'Ordu', 'country': 'Turkey', 'latitude': '41.00', 'longitude': '37.87', 'temperature': '11.92'}, {'city': 'Orsha', 'country': 'Belarus', 'latitude': '54.52', 'longitude': '30.42', 'temperature': '4.93'}, {'city': 'Oslo', 'country': 'Norway', 'latitude': '59.92', 'longitude': '10.75', 'temperature': '2.32'}, {'city': 'Ostrava', 'country': 'Czech Republic', 'latitude': '49.83', 'longitude': '18.25', 'temperature': '7.66'}, {'city': 'Oulu', 'country': 'Finland', 'latitude': '65.00', 'longitude': '25.47', 'temperature': '1.45'}, {'city': 'Oviedo', 'country': 'Spain', 'latitude': '43.35', 'longitude': '-5.83', 'temperature': '10.85'}, {'city': 'Palermo', 'country': 'Italy', 'latitude': '38.13', 'longitude': '13.35', 'temperature': '17.90'}, {'city': 'Patras', 'country': 'Greece', 'latitude': '38.23', 'longitude': '21.73', 'temperature': '16.90'}, {'city': 'Perpignan', 'country': 'France', 'latitude': '42.70', 'longitude': '2.90', 'temperature': '10.95'}, {'city': 'Perugia', 'country': 'Italy', 'latitude': '43.11', 'longitude': '12.39', 'temperature': '11.70'}, {'city': 'Pescara', 'country': 'Italy', 'latitude': '42.46', 'longitude': '14.22', 'temperature': '15.13'}, {'city': 'Pinsk', 'country': 'Belarus', 'latitude': '52.13', 'longitude': '26.09', 'temperature': '6.42'}, {'city': 'Pleven', 'country': 'Bulgaria', 'latitude': '43.42', 'longitude': '24.61', 'temperature': '10.51'}, {'city': 'Plovdiv', 'country': 'Bulgaria', 'latitude': '42.15', 'longitude': '24.75', 'temperature': '8.27'}, {'city': 'Podgorica', 'country': 'Montenegro', 'latitude': '42.47', 'longitude': '19.27', 'temperature': '9.99'}, {'city': 'Poznan', 'country': 'Poland', 'latitude': '52.41', 'longitude': '16.90', 'temperature': '8.31'}, {'city': 'Prague', 'country': 'Czech Republic', 'latitude': '50.08', 'longitude': '14.47', 'temperature': '8.05'}, {'city': 'Reims', 'country': 'France', 'latitude': '49.25', 'longitude': '4.03', 'temperature': '9.40'}, {'city': 'Riga', 'country': 'Latvia', 'latitude': '56.95', 'longitude': '24.10', 'temperature': '5.16'}, {'city': 'Rijeka', 'country': 'Croatia', 'latitude': '45.33', 'longitude': '14.45', 'temperature': '9.27'}, {'city': 'Rivne', 'country': 'Ukraine', 'latitude': '50.62', 'longitude': '26.25', 'temperature': '6.76'}, {'city': 'Rome', 'country': 'Italy', 'latitude': '41.90', 'longitude': '12.48', 'temperature': '15.10'}, {'city': 'Rostock', 'country': 'Germany', 'latitude': '54.07', 'longitude': '12.15', 'temperature': '8.07'}, {'city': 'Ruse', 'country': 'Bulgaria', 'latitude': '43.85', 'longitude': '25.97', 'temperature': '10.59'}, {'city': 'Salamanca', 'country': 'Spain', 'latitude': '40.97', 'longitude': '-5.67', 'temperature': '11.63'}, {'city': 'Salzburg', 'country': 'Austria', 'latitude': '47.81', 'longitude': '13.04', 'temperature': '4.62'}, {'city': 'Samsun', 'country': 'Turkey', 'latitude': '41.28', 'longitude': '36.34', 'temperature': '12.05'}, {'city': 'Santander', 'country': 'Spain', 'latitude': '43.38', 'longitude': '-3.80', 'temperature': '13.40'}, {'city': 'Sarajevo', 'country': 'Bosnia and Herzegovina', 'latitude': '43.85', 'longitude': '13.38', 'temperature': '9.60'}, {'city': 'Sibiu', 'country': 'Romania', 'latitude': '45.80', 'longitude': '24.14', 'temperature': '6.97'}, {'city': 'Siirt', 'country': 'Turkey', 'latitude': '37.94', 'longitude': '41.93', 'temperature': '12.48'}, {'city': 'Sivas', 'country': 'Turkey', 'latitude': '39.75', 'longitude': '37.03', 'temperature': '8.05'}, {'city': 'Skopje', 'country': 'Macedonia', 'latitude': '42.00', 'longitude': '21.43', 'temperature': '9.36'}, {'city': 'Split', 'country': 'Croatia', 'latitude': '43.52', 'longitude': '16.47', 'temperature': '12.46'}, {'city': 'Stara Zagora', 'country': 'Bulgaria', 'latitude': '42.42', 'longitude': '25.62', 'temperature': '10.90'}, {'city': 'Stavanger', 'country': 'Norway', 'latitude': '58.97', 'longitude': '5.68', 'temperature': '5.53'}, {'city': 'Stockholm', 'country': 'Sweden', 'latitude': '59.35', 'longitude': '18.10', 'temperature': '6.26'}, {'city': 'Sumy', 'country': 'Ukraine', 'latitude': '50.92', 'longitude': '34.78', 'temperature': '6.28'}, {'city': 'Swansea', 'country': 'United Kingdom', 'latitude': '51.63', 'longitude': '-3.95', 'temperature': '9.73'}, {'city': 'Szeged', 'country': 'Hungary', 'latitude': '46.25', 'longitude': '20.15', 'temperature': '10.34'}, {'city': 'Tallinn', 'country': 'Estonia', 'latitude': '59.43', 'longitude': '24.73', 'temperature': '4.82'}, {'city': 'Tampere', 'country': 'Finland', 'latitude': '61.50', 'longitude': '23.75', 'temperature': '3.59'}, {'city': 'Tarsus', 'country': 'Turkey', 'latitude': '36.92', 'longitude': '34.88', 'temperature': '11.21'}, {'city': 'Tartu', 'country': 'Estonia', 'latitude': '58.38', 'longitude': '26.71', 'temperature': '4.36'}, {'city': 'Tekirdag', 'country': 'Turkey', 'latitude': '40.99', 'longitude': '27.51', 'temperature': '13.02'}, {'city': 'Toulouse', 'country': 'France', 'latitude': '43.62', 'longitude': '1.45', 'temperature': '10.25'}, {'city': 'Trabzon', 'country': 'Turkey', 'latitude': '40.98', 'longitude': '39.72', 'temperature': '10.28'}, {'city': 'Trieste', 'country': 'Italy', 'latitude': '45.65', 'longitude': '13.80', 'temperature': '11.21'}, {'city': 'Trikala', 'country': 'Greece', 'latitude': '39.56', 'longitude': '21.77', 'temperature': '16.00'}, {'city': 'Trondheim', 'country': 'Norway', 'latitude': '63.42', 'longitude': '10.42', 'temperature': '4.53'}, {'city': 'Turku', 'country': 'Finland', 'latitude': '60.45', 'longitude': '22.25', 'temperature': '4.72'}, {'city': 'Uppsala', 'country': 'Sweden', 'latitude': '59.86', 'longitude': '17.64', 'temperature': '4.17'}, {'city': 'Valencia', 'country': 'Spain', 'latitude': '39.49', 'longitude': '-0.40', 'temperature': '16.02'}, {'city': 'Vienna', 'country': 'Austria', 'latitude': '48.20', 'longitude': '16.37', 'temperature': '7.86'}, {'city': 'Vigo', 'country': 'Spain', 'latitude': '42.22', 'longitude': '-8.73', 'temperature': '12.85'}, {'city': 'Vilnius', 'country': 'Lithuania', 'latitude': '54.68', 'longitude': '25.32', 'temperature': '5.38'}, {'city': 'Warsaw', 'country': 'Poland', 'latitude': '52.25', 'longitude': '21.00', 'temperature': '7.20'}, {'city': 'Wroclaw', 'country': 'Poland', 'latitude': '51.11', 'longitude': '17.03', 'temperature': '7.17'}, {'city': 'Yevpatoriya', 'country': 'Ukraine', 'latitude': '45.20', 'longitude': '33.36', 'temperature': '10.02'}, {'city': 'Zaragoza', 'country': 'Spain', 'latitude': '41.65', 'longitude': '-0.89', 'temperature': '14.17'}, {'city': 'Zhytomyr', 'country': 'Ukraine', 'latitude': '50.25', 'longitude': '28.66', 'temperature': '6.67'}, {'city': 'Zonguldak', 'country': 'Turkey', 'latitude': '41.43', 'longitude': '31.78', 'temperature': '10.64'}, {'city': 'Zurich', 'country': 'Switzerland', 'latitude': '47.38', 'longitude': '8.56', 'temperature': '6.68'}]\n"
          ]
        }
      ],
      "source": [
        "# Read Cities.csv data into list of dictionaries\n",
        "cities = []\n",
        "with open('Cities.csv') as f:\n",
        "    rows = csv.DictReader(f)\n",
        "    for r in rows:\n",
        "        cities.append(dict(r))\n",
        "print(cities)"
      ]
    },
    {
      "cell_type": "code",
      "execution_count": 5,
      "metadata": {
        "id": "X6unZ0WHoTB6",
        "colab": {
          "base_uri": "https://localhost:8080/"
        },
        "outputId": "4895533e-5844-4f7b-b2a3-8fa45096ef05"
      },
      "outputs": [
        {
          "output_type": "stream",
          "name": "stdout",
          "text": [
            "[{'country': 'Albania', 'population': '2.9', 'EU': 'no', 'coastline': 'yes'}, {'country': 'Andorra', 'population': '0.07', 'EU': 'no', 'coastline': 'no'}, {'country': 'Austria', 'population': '8.57', 'EU': 'yes', 'coastline': 'no'}, {'country': 'Belarus', 'population': '9.48', 'EU': 'no', 'coastline': 'no'}, {'country': 'Belgium', 'population': '11.37', 'EU': 'yes', 'coastline': 'yes'}, {'country': 'Bosnia and Herzegovina', 'population': '3.8', 'EU': 'no', 'coastline': 'yes'}, {'country': 'Bulgaria', 'population': '7.1', 'EU': 'yes', 'coastline': 'yes'}, {'country': 'Croatia', 'population': '4.23', 'EU': 'yes', 'coastline': 'yes'}, {'country': 'Cyprus', 'population': '1.18', 'EU': 'yes', 'coastline': 'yes'}, {'country': 'Czech Republic', 'population': '10.55', 'EU': 'yes', 'coastline': 'no'}, {'country': 'Denmark', 'population': '5.69', 'EU': 'yes', 'coastline': 'yes'}, {'country': 'Estonia', 'population': '1.31', 'EU': 'yes', 'coastline': 'yes'}, {'country': 'Finland', 'population': '5.52', 'EU': 'yes', 'coastline': 'yes'}, {'country': 'France', 'population': '64.67', 'EU': 'yes', 'coastline': 'yes'}, {'country': 'Germany', 'population': '80.68', 'EU': 'yes', 'coastline': 'yes'}, {'country': 'Greece', 'population': '10.92', 'EU': 'yes', 'coastline': 'yes'}, {'country': 'Hungary', 'population': '9.82', 'EU': 'yes', 'coastline': 'no'}, {'country': 'Iceland', 'population': '0.33', 'EU': 'no', 'coastline': 'yes'}, {'country': 'Ireland', 'population': '4.71', 'EU': 'yes', 'coastline': 'yes'}, {'country': 'Italy', 'population': '59.8', 'EU': 'yes', 'coastline': 'yes'}, {'country': 'Kosovo', 'population': '1.91', 'EU': 'no', 'coastline': 'no'}, {'country': 'Latvia', 'population': '1.96', 'EU': 'yes', 'coastline': 'yes'}, {'country': 'Liechtenstein', 'population': '0.04', 'EU': 'no', 'coastline': 'no'}, {'country': 'Lithuania', 'population': '2.85', 'EU': 'yes', 'coastline': 'yes'}, {'country': 'Luxembourg', 'population': '0.58', 'EU': 'yes', 'coastline': 'no'}, {'country': 'Macedonia', 'population': '2.08', 'EU': 'no', 'coastline': 'no'}, {'country': 'Moldova', 'population': '4.06', 'EU': 'no', 'coastline': 'no'}, {'country': 'Montenegro', 'population': '0.63', 'EU': 'no', 'coastline': 'yes'}, {'country': 'Netherlands', 'population': '16.98', 'EU': 'yes', 'coastline': 'yes'}, {'country': 'Norway', 'population': '5.27', 'EU': 'no', 'coastline': 'yes'}, {'country': 'Poland', 'population': '38.59', 'EU': 'yes', 'coastline': 'yes'}, {'country': 'Portugal', 'population': '10.3', 'EU': 'yes', 'coastline': 'yes'}, {'country': 'Romania', 'population': '19.37', 'EU': 'yes', 'coastline': 'yes'}, {'country': 'Serbia', 'population': '8.81', 'EU': 'no', 'coastline': 'no'}, {'country': 'Slovakia', 'population': '5.43', 'EU': 'yes', 'coastline': 'no'}, {'country': 'Slovenia', 'population': '2.07', 'EU': 'yes', 'coastline': 'yes'}, {'country': 'Spain', 'population': '46.06', 'EU': 'yes', 'coastline': 'yes'}, {'country': 'Sweden', 'population': '9.85', 'EU': 'yes', 'coastline': 'yes'}, {'country': 'Switzerland', 'population': '8.38', 'EU': 'no', 'coastline': 'no'}, {'country': 'Turkey', 'population': '79.62', 'EU': 'no', 'coastline': 'yes'}, {'country': 'Ukraine', 'population': '44.62', 'EU': 'no', 'coastline': 'yes'}, {'country': 'United Kingdom', 'population': '65.11', 'EU': 'yes', 'coastline': 'yes'}]\n"
          ]
        }
      ],
      "source": [
        "# Read Countries.csv data into list of dictionaries\n",
        "countries = []\n",
        "with open('Countries.csv') as f:\n",
        "    rows = csv.DictReader(f)\n",
        "    for r in rows:\n",
        "        countries.append(dict(r))\n",
        "print(countries)"
      ]
    },
    {
      "cell_type": "code",
      "execution_count": 6,
      "metadata": {
        "id": "G9djxF3KoTB6",
        "colab": {
          "base_uri": "https://localhost:8080/",
          "height": 193
        },
        "outputId": "1411dfca-46e2-4a6a-a50a-5d9cdcfe7ef4"
      },
      "outputs": [
        {
          "output_type": "error",
          "ename": "NameError",
          "evalue": "name 'cities' is not defined",
          "traceback": [
            "\u001b[0;31m---------------------------------------------------------------------------\u001b[0m",
            "\u001b[0;31mNameError\u001b[0m                                 Traceback (most recent call last)",
            "\u001b[0;32m<ipython-input-6-5d2525f54ea8>\u001b[0m in \u001b[0;36m<cell line: 2>\u001b[0;34m()\u001b[0m\n\u001b[1;32m      1\u001b[0m \u001b[0;31m# Print the city and longitude of all cities with longitude < 0\u001b[0m\u001b[0;34m\u001b[0m\u001b[0;34m\u001b[0m\u001b[0m\n\u001b[0;32m----> 2\u001b[0;31m \u001b[0;32mfor\u001b[0m \u001b[0mcity\u001b[0m \u001b[0;32min\u001b[0m \u001b[0mcities\u001b[0m\u001b[0;34m:\u001b[0m\u001b[0;34m\u001b[0m\u001b[0;34m\u001b[0m\u001b[0m\n\u001b[0m\u001b[1;32m      3\u001b[0m     \u001b[0;32mif\u001b[0m \u001b[0mfloat\u001b[0m\u001b[0;34m(\u001b[0m\u001b[0mcity\u001b[0m\u001b[0;34m[\u001b[0m\u001b[0;34m'longitude'\u001b[0m\u001b[0;34m]\u001b[0m\u001b[0;34m)\u001b[0m \u001b[0;34m<\u001b[0m \u001b[0;36m0\u001b[0m\u001b[0;34m:\u001b[0m\u001b[0;34m\u001b[0m\u001b[0;34m\u001b[0m\u001b[0m\n\u001b[1;32m      4\u001b[0m         \u001b[0mprint\u001b[0m\u001b[0;34m(\u001b[0m\u001b[0mcity\u001b[0m\u001b[0;34m[\u001b[0m\u001b[0;34m'city'\u001b[0m\u001b[0;34m]\u001b[0m\u001b[0;34m,\u001b[0m \u001b[0mcity\u001b[0m\u001b[0;34m[\u001b[0m\u001b[0;34m'longitude'\u001b[0m\u001b[0;34m]\u001b[0m\u001b[0;34m)\u001b[0m\u001b[0;34m\u001b[0m\u001b[0;34m\u001b[0m\u001b[0m\n",
            "\u001b[0;31mNameError\u001b[0m: name 'cities' is not defined"
          ]
        }
      ],
      "source": [
        "# Print the city and longitude of all cities with longitude < 0\n",
        "for city in cities:\n",
        "    if float(city['longitude']) < 0:\n",
        "        print(city['city'], city['longitude'])"
      ]
    },
    {
      "cell_type": "code",
      "execution_count": 7,
      "metadata": {
        "id": "y7493sZ4oTB7",
        "colab": {
          "base_uri": "https://localhost:8080/",
          "height": 211
        },
        "outputId": "0c5dfe8c-c775-43c1-e1a7-bdcbc838e182"
      },
      "outputs": [
        {
          "output_type": "error",
          "ename": "NameError",
          "evalue": "name 'cities' is not defined",
          "traceback": [
            "\u001b[0;31m---------------------------------------------------------------------------\u001b[0m",
            "\u001b[0;31mNameError\u001b[0m                                 Traceback (most recent call last)",
            "\u001b[0;32m<ipython-input-7-402014578584>\u001b[0m in \u001b[0;36m<cell line: 3>\u001b[0;34m()\u001b[0m\n\u001b[1;32m      1\u001b[0m \u001b[0;31m# Print all cities that are not in the EU\u001b[0m\u001b[0;34m\u001b[0m\u001b[0;34m\u001b[0m\u001b[0m\n\u001b[1;32m      2\u001b[0m \u001b[0;31m# Requires joining cities and countries\u001b[0m\u001b[0;34m\u001b[0m\u001b[0;34m\u001b[0m\u001b[0m\n\u001b[0;32m----> 3\u001b[0;31m \u001b[0;32mfor\u001b[0m \u001b[0mcity\u001b[0m \u001b[0;32min\u001b[0m \u001b[0mcities\u001b[0m\u001b[0;34m:\u001b[0m\u001b[0;34m\u001b[0m\u001b[0;34m\u001b[0m\u001b[0m\n\u001b[0m\u001b[1;32m      4\u001b[0m     \u001b[0;32mfor\u001b[0m \u001b[0mcountry\u001b[0m \u001b[0;32min\u001b[0m \u001b[0mcountries\u001b[0m\u001b[0;34m:\u001b[0m\u001b[0;34m\u001b[0m\u001b[0;34m\u001b[0m\u001b[0m\n\u001b[1;32m      5\u001b[0m         \u001b[0;32mif\u001b[0m \u001b[0mcity\u001b[0m\u001b[0;34m[\u001b[0m\u001b[0;34m'country'\u001b[0m\u001b[0;34m]\u001b[0m \u001b[0;34m==\u001b[0m \u001b[0mcountry\u001b[0m\u001b[0;34m[\u001b[0m\u001b[0;34m'country'\u001b[0m\u001b[0;34m]\u001b[0m \u001b[0;32mand\u001b[0m \u001b[0mcountry\u001b[0m\u001b[0;34m[\u001b[0m\u001b[0;34m'EU'\u001b[0m\u001b[0;34m]\u001b[0m \u001b[0;34m==\u001b[0m \u001b[0;34m'no'\u001b[0m\u001b[0;34m:\u001b[0m\u001b[0;34m\u001b[0m\u001b[0;34m\u001b[0m\u001b[0m\n",
            "\u001b[0;31mNameError\u001b[0m: name 'cities' is not defined"
          ]
        }
      ],
      "source": [
        "# Print all cities that are not in the EU\n",
        "# Requires joining cities and countries\n",
        "for city in cities:\n",
        "    for country in countries:\n",
        "        if city['country'] == country['country'] and country['EU'] == 'no':\n",
        "            print(city['city'], '-', city['country'])"
      ]
    },
    {
      "cell_type": "markdown",
      "metadata": {
        "id": "UkvJU3NXoTB7"
      },
      "source": [
        "### Aggregation"
      ]
    },
    {
      "cell_type": "code",
      "execution_count": null,
      "metadata": {
        "id": "7GbhactaoTB7"
      },
      "outputs": [],
      "source": [
        "import numpy as np"
      ]
    },
    {
      "cell_type": "code",
      "execution_count": null,
      "metadata": {
        "id": "RPmtwvDcoTB7",
        "colab": {
          "base_uri": "https://localhost:8080/"
        },
        "outputId": "7588c69e-ea0c-4a05-db8c-3820800bff24"
      },
      "outputs": [
        {
          "output_type": "stream",
          "name": "stdout",
          "text": [
            "9.497840375586854\n"
          ]
        }
      ],
      "source": [
        "# Compute overall average city temperature\n",
        "temps = [] # create list of all temperatures\n",
        "for city in cities:\n",
        "    temps.append(float(city['temperature']))\n",
        "# print(temps)\n",
        "print(np.average(temps))"
      ]
    },
    {
      "cell_type": "code",
      "execution_count": null,
      "metadata": {
        "id": "Tuz92iE4oTB8",
        "colab": {
          "base_uri": "https://localhost:8080/"
        },
        "outputId": "d61ef5b3-0f27-4d86-f90c-4cff3f4bcd6b"
      },
      "outputs": [
        {
          "output_type": "stream",
          "name": "stdout",
          "text": [
            "9.497840375586858\n"
          ]
        }
      ],
      "source": [
        "# Alternative using running sum and count\n",
        "sum = 0\n",
        "count = 0\n",
        "for city in cities:\n",
        "    sum += float(city['temperature'])\n",
        "    count += 1\n",
        "print(sum/count)"
      ]
    },
    {
      "cell_type": "code",
      "execution_count": null,
      "metadata": {
        "id": "5DmVhjoIoTB8",
        "colab": {
          "base_uri": "https://localhost:8080/"
        },
        "outputId": "b986baba-f01b-4343-eeb3-1c123dc5d149"
      },
      "outputs": [
        {
          "output_type": "stream",
          "name": "stdout",
          "text": [
            "Denmark 7.625\n",
            "United Kingdom 8.649999999999999\n",
            "Sweden 3.5866666666666673\n",
            "Turkey 11.726666666666667\n",
            "Spain 14.238333333333332\n",
            "France 10.151111111111112\n",
            "Netherlands 8.756666666666668\n",
            "Italy 13.474666666666668\n",
            "Andorra 9.6\n",
            "Romania 9.224444444444444\n",
            "Greece 16.9025\n",
            "Germany 7.8692857142857155\n",
            "Moldova 8.415\n",
            "Switzerland 7.253333333333333\n",
            "Serbia 9.85\n",
            "Norway 3.7260000000000004\n",
            "Poland 7.25\n",
            "Ukraine 7.420000000000001\n",
            "Portugal 14.469999999999999\n",
            "Slovakia 8.48\n",
            "Belarus 5.946666666666666\n",
            "Czech Republic 7.8566666666666665\n",
            "Belgium 9.65\n",
            "Hungary 9.6025\n",
            "Bulgaria 10.44\n",
            "Ireland 9.299999999999999\n",
            "Latvia 5.27\n",
            "Albania 15.18\n",
            "Austria 6.144\n",
            "Finland 3.4875\n",
            "Lithuania 6.1433333333333335\n",
            "Slovenia 9.27\n",
            "Montenegro 9.99\n",
            "Croatia 10.865\n",
            "Bosnia and Herzegovina 9.6\n",
            "Macedonia 9.36\n",
            "Estonia 4.59\n"
          ]
        }
      ],
      "source": [
        "# Compute average city temperature for each country\n",
        "# First compute list of countries\n",
        "countryList = []\n",
        "for city in cities:\n",
        "    if city['country'] not in countryList:\n",
        "        countryList.append(city['country'])\n",
        "# print(countryList)\n",
        "# Then compute average temperature for each\n",
        "for country in countryList:\n",
        "    temps = []\n",
        "    for city in cities:\n",
        "        if city['country'] == country:\n",
        "            temps.append(float(city['temperature']))\n",
        "    print(country, np.average(temps))"
      ]
    },
    {
      "cell_type": "code",
      "execution_count": null,
      "metadata": {
        "id": "i_WRHukVoTB8",
        "colab": {
          "base_uri": "https://localhost:8080/"
        },
        "outputId": "0c7843d9-688c-44bb-ea89-1e2a83863a9d"
      },
      "outputs": [
        {
          "output_type": "stream",
          "name": "stdout",
          "text": [
            "Minimum: -2.2\n",
            "Maximum: 18.67\n"
          ]
        }
      ],
      "source": [
        "# Compute overall minimum and maximum city temperatures\n",
        "temps = []\n",
        "for city in cities:\n",
        "    temps.append(float(city['temperature']))\n",
        "print('Minimum:', min(temps))\n",
        "print('Maximum:', max(temps))"
      ]
    },
    {
      "cell_type": "code",
      "execution_count": null,
      "metadata": {
        "id": "gdIlo3mcoTB8",
        "colab": {
          "base_uri": "https://localhost:8080/"
        },
        "outputId": "ac5f0b0a-6dde-4890-e30d-303cb1230030"
      },
      "outputs": [
        {
          "output_type": "stream",
          "name": "stdout",
          "text": [
            "Minimum: -2.2\n",
            "Maximum: 18.67\n"
          ]
        }
      ],
      "source": [
        "# Alternative method using running min and max\n",
        "minval = 100 # greater than any possible minimum\n",
        "maxval = 0   # less than any possible maximum\n",
        "for city in cities:\n",
        "    if float(city['temperature']) < minval:\n",
        "        minval = float(city['temperature'])\n",
        "    if float(city['temperature']) > maxval:\n",
        "        maxval = float(city['temperature'])\n",
        "print('Minimum:', minval)\n",
        "print('Maximum:', maxval)"
      ]
    },
    {
      "cell_type": "markdown",
      "metadata": {
        "id": "U3fJz9tIoTB9"
      },
      "source": [
        "### <font color=\"green\">**Your Turn**</font>"
      ]
    },
    {
      "cell_type": "code",
      "execution_count": null,
      "metadata": {
        "scrolled": true,
        "id": "GrfXOuSVoTB9"
      },
      "outputs": [],
      "source": [
        "# Find the minimum, maximum, and average temperatures of\n",
        "# cities that are in the EU, and the minimum, maximum, and average\n",
        "# temperatures of cities that are not in the EU\n",
        "#\n",
        "# Hint: You will need to \"join\" cities and countries using one loop inside\n",
        "#   another as seen in an earlier example\n",
        "# Suggestion: create two lists of temperatures\n",
        "EU = [] # temperatures of EU cities\n",
        "nonEU = [] # temperatures of non-EU cities\n",
        "YOUR CODE TO POPULATE LISTS GOES HERE\n",
        "print('EU:    ', 'minimum', min(EU), 'maximum', max(EU), 'average', np.average(EU))\n",
        "print('non-EU:', 'minimum', min(nonEU), 'maximum', max(nonEU), 'average', np.average(nonEU))"
      ]
    },
    {
      "cell_type": "markdown",
      "metadata": {
        "id": "49BtRLrdoTB9"
      },
      "source": [
        "### <font color=\"green\">**Your Turn: World Cup Data**</font>"
      ]
    },
    {
      "cell_type": "code",
      "source": [
        "# Upload world cup data files\n",
        "# Choose files Players.csv and Teams.csv - must be on local computer\n",
        "from google.colab import files\n",
        "uploaded = files.upload()"
      ],
      "metadata": {
        "id": "MFEQKDtYs4Vt"
      },
      "execution_count": null,
      "outputs": []
    },
    {
      "cell_type": "code",
      "execution_count": null,
      "metadata": {
        "id": "ZmS34bkyoTB9"
      },
      "outputs": [],
      "source": [
        "# Read Players.csv and Teams.csv into lists of dictionaries\n",
        "players = []\n",
        "with open('Players.csv') as f:\n",
        "    rows = csv.DictReader(f)\n",
        "    for r in rows:\n",
        "        players.append(dict(r))\n",
        "teams = []\n",
        "with open('Teams.csv') as f:\n",
        "    rows = csv.DictReader(f)\n",
        "    for r in rows:\n",
        "        teams.append(dict(r))"
      ]
    },
    {
      "cell_type": "code",
      "execution_count": null,
      "metadata": {
        "id": "xVdKNHg0oTB-"
      },
      "outputs": [],
      "source": [
        "# What player on a team with “ia” in the team name played less than\n",
        "# 200 minutes and made more than 100 passes? Print the player surname.\n",
        "# Note: In Python, use \"'abc' in s\" to check whether string s contains'abc'\n",
        "# Reminder: Convert minutes and passes to integers before comparing to values\n",
        "YOUR CODE HERE"
      ]
    },
    {
      "cell_type": "code",
      "execution_count": null,
      "metadata": {
        "id": "A53f6RzZoTB-"
      },
      "outputs": [],
      "source": [
        "# What is the average number of passes made by forwards? By midfielders?\n",
        "# Make sure to label which is which.\n",
        "YOUR CODE HERE"
      ]
    },
    {
      "cell_type": "code",
      "execution_count": null,
      "metadata": {
        "id": "J8JWfPs6oTB-"
      },
      "outputs": [],
      "source": [
        "# Which team has the highest ratio of goalsFor to goalsAgainst?\n",
        "# Print the team only.\n",
        "# Reminder: Use float() to make sure you're doing floating point division\n",
        "# Hint: Use two variables to keep track of highest ratio seen so far\n",
        "# and team with that ratio:\n",
        "ratio = 0 # highest ratio seen so far\n",
        "ratioteam = '' # team with highest ratio\n",
        "YOUR CODE HERE"
      ]
    },
    {
      "cell_type": "code",
      "execution_count": null,
      "metadata": {
        "id": "2pYE61VhoTB-"
      },
      "outputs": [],
      "source": [
        "# How many players who play on a team with ranking <10 played\n",
        "# more than 350 minutes?\n",
        "# Reminder: Convert ranking and minutes to integers before comparing to values\n",
        "# Hint: Compute join of players and teams, using a variable to count number of\n",
        "# players satisfying requirement\n",
        "YOUR CODE HERE"
      ]
    },
    {
      "cell_type": "markdown",
      "metadata": {
        "id": "9IVauwC0oTB-"
      },
      "source": [
        "### <font color=\"green\">**Your Turn Extra: Titanic Data**</font>"
      ]
    },
    {
      "cell_type": "code",
      "source": [
        "# Upload Titanic data file\n",
        "# Choose file Titanic.csv - must be on local computer\n",
        "from google.colab import files\n",
        "uploaded = files.upload()"
      ],
      "metadata": {
        "id": "lWekvVLstIqB",
        "colab": {
          "base_uri": "https://localhost:8080/",
          "height": 73
        },
        "outputId": "01271bcf-2b4b-4c85-e279-64e3da427973"
      },
      "execution_count": 8,
      "outputs": [
        {
          "output_type": "display_data",
          "data": {
            "text/plain": [
              "<IPython.core.display.HTML object>"
            ],
            "text/html": [
              "\n",
              "     <input type=\"file\" id=\"files-e6ff69ec-fd2f-44f6-90f8-c2ac1ef9ec47\" name=\"files[]\" multiple disabled\n",
              "        style=\"border:none\" />\n",
              "     <output id=\"result-e6ff69ec-fd2f-44f6-90f8-c2ac1ef9ec47\">\n",
              "      Upload widget is only available when the cell has been executed in the\n",
              "      current browser session. Please rerun this cell to enable.\n",
              "      </output>\n",
              "      <script>// Copyright 2017 Google LLC\n",
              "//\n",
              "// Licensed under the Apache License, Version 2.0 (the \"License\");\n",
              "// you may not use this file except in compliance with the License.\n",
              "// You may obtain a copy of the License at\n",
              "//\n",
              "//      http://www.apache.org/licenses/LICENSE-2.0\n",
              "//\n",
              "// Unless required by applicable law or agreed to in writing, software\n",
              "// distributed under the License is distributed on an \"AS IS\" BASIS,\n",
              "// WITHOUT WARRANTIES OR CONDITIONS OF ANY KIND, either express or implied.\n",
              "// See the License for the specific language governing permissions and\n",
              "// limitations under the License.\n",
              "\n",
              "/**\n",
              " * @fileoverview Helpers for google.colab Python module.\n",
              " */\n",
              "(function(scope) {\n",
              "function span(text, styleAttributes = {}) {\n",
              "  const element = document.createElement('span');\n",
              "  element.textContent = text;\n",
              "  for (const key of Object.keys(styleAttributes)) {\n",
              "    element.style[key] = styleAttributes[key];\n",
              "  }\n",
              "  return element;\n",
              "}\n",
              "\n",
              "// Max number of bytes which will be uploaded at a time.\n",
              "const MAX_PAYLOAD_SIZE = 100 * 1024;\n",
              "\n",
              "function _uploadFiles(inputId, outputId) {\n",
              "  const steps = uploadFilesStep(inputId, outputId);\n",
              "  const outputElement = document.getElementById(outputId);\n",
              "  // Cache steps on the outputElement to make it available for the next call\n",
              "  // to uploadFilesContinue from Python.\n",
              "  outputElement.steps = steps;\n",
              "\n",
              "  return _uploadFilesContinue(outputId);\n",
              "}\n",
              "\n",
              "// This is roughly an async generator (not supported in the browser yet),\n",
              "// where there are multiple asynchronous steps and the Python side is going\n",
              "// to poll for completion of each step.\n",
              "// This uses a Promise to block the python side on completion of each step,\n",
              "// then passes the result of the previous step as the input to the next step.\n",
              "function _uploadFilesContinue(outputId) {\n",
              "  const outputElement = document.getElementById(outputId);\n",
              "  const steps = outputElement.steps;\n",
              "\n",
              "  const next = steps.next(outputElement.lastPromiseValue);\n",
              "  return Promise.resolve(next.value.promise).then((value) => {\n",
              "    // Cache the last promise value to make it available to the next\n",
              "    // step of the generator.\n",
              "    outputElement.lastPromiseValue = value;\n",
              "    return next.value.response;\n",
              "  });\n",
              "}\n",
              "\n",
              "/**\n",
              " * Generator function which is called between each async step of the upload\n",
              " * process.\n",
              " * @param {string} inputId Element ID of the input file picker element.\n",
              " * @param {string} outputId Element ID of the output display.\n",
              " * @return {!Iterable<!Object>} Iterable of next steps.\n",
              " */\n",
              "function* uploadFilesStep(inputId, outputId) {\n",
              "  const inputElement = document.getElementById(inputId);\n",
              "  inputElement.disabled = false;\n",
              "\n",
              "  const outputElement = document.getElementById(outputId);\n",
              "  outputElement.innerHTML = '';\n",
              "\n",
              "  const pickedPromise = new Promise((resolve) => {\n",
              "    inputElement.addEventListener('change', (e) => {\n",
              "      resolve(e.target.files);\n",
              "    });\n",
              "  });\n",
              "\n",
              "  const cancel = document.createElement('button');\n",
              "  inputElement.parentElement.appendChild(cancel);\n",
              "  cancel.textContent = 'Cancel upload';\n",
              "  const cancelPromise = new Promise((resolve) => {\n",
              "    cancel.onclick = () => {\n",
              "      resolve(null);\n",
              "    };\n",
              "  });\n",
              "\n",
              "  // Wait for the user to pick the files.\n",
              "  const files = yield {\n",
              "    promise: Promise.race([pickedPromise, cancelPromise]),\n",
              "    response: {\n",
              "      action: 'starting',\n",
              "    }\n",
              "  };\n",
              "\n",
              "  cancel.remove();\n",
              "\n",
              "  // Disable the input element since further picks are not allowed.\n",
              "  inputElement.disabled = true;\n",
              "\n",
              "  if (!files) {\n",
              "    return {\n",
              "      response: {\n",
              "        action: 'complete',\n",
              "      }\n",
              "    };\n",
              "  }\n",
              "\n",
              "  for (const file of files) {\n",
              "    const li = document.createElement('li');\n",
              "    li.append(span(file.name, {fontWeight: 'bold'}));\n",
              "    li.append(span(\n",
              "        `(${file.type || 'n/a'}) - ${file.size} bytes, ` +\n",
              "        `last modified: ${\n",
              "            file.lastModifiedDate ? file.lastModifiedDate.toLocaleDateString() :\n",
              "                                    'n/a'} - `));\n",
              "    const percent = span('0% done');\n",
              "    li.appendChild(percent);\n",
              "\n",
              "    outputElement.appendChild(li);\n",
              "\n",
              "    const fileDataPromise = new Promise((resolve) => {\n",
              "      const reader = new FileReader();\n",
              "      reader.onload = (e) => {\n",
              "        resolve(e.target.result);\n",
              "      };\n",
              "      reader.readAsArrayBuffer(file);\n",
              "    });\n",
              "    // Wait for the data to be ready.\n",
              "    let fileData = yield {\n",
              "      promise: fileDataPromise,\n",
              "      response: {\n",
              "        action: 'continue',\n",
              "      }\n",
              "    };\n",
              "\n",
              "    // Use a chunked sending to avoid message size limits. See b/62115660.\n",
              "    let position = 0;\n",
              "    do {\n",
              "      const length = Math.min(fileData.byteLength - position, MAX_PAYLOAD_SIZE);\n",
              "      const chunk = new Uint8Array(fileData, position, length);\n",
              "      position += length;\n",
              "\n",
              "      const base64 = btoa(String.fromCharCode.apply(null, chunk));\n",
              "      yield {\n",
              "        response: {\n",
              "          action: 'append',\n",
              "          file: file.name,\n",
              "          data: base64,\n",
              "        },\n",
              "      };\n",
              "\n",
              "      let percentDone = fileData.byteLength === 0 ?\n",
              "          100 :\n",
              "          Math.round((position / fileData.byteLength) * 100);\n",
              "      percent.textContent = `${percentDone}% done`;\n",
              "\n",
              "    } while (position < fileData.byteLength);\n",
              "  }\n",
              "\n",
              "  // All done.\n",
              "  yield {\n",
              "    response: {\n",
              "      action: 'complete',\n",
              "    }\n",
              "  };\n",
              "}\n",
              "\n",
              "scope.google = scope.google || {};\n",
              "scope.google.colab = scope.google.colab || {};\n",
              "scope.google.colab._files = {\n",
              "  _uploadFiles,\n",
              "  _uploadFilesContinue,\n",
              "};\n",
              "})(self);\n",
              "</script> "
            ]
          },
          "metadata": {}
        },
        {
          "output_type": "stream",
          "name": "stdout",
          "text": [
            "Saving Titanic.csv to Titanic.csv\n"
          ]
        }
      ]
    },
    {
      "cell_type": "code",
      "execution_count": 9,
      "metadata": {
        "id": "4mQFcPuMoTB-"
      },
      "outputs": [],
      "source": [
        "# Read Titanic.csv into list of dictionaries\n",
        "titanic = []\n",
        "with open('Titanic.csv') as f:\n",
        "    rows = csv.DictReader(f)\n",
        "    for r in rows:\n",
        "        titanic.append(dict(r))"
      ]
    },
    {
      "cell_type": "code",
      "source": [
        "print(dict(r))"
      ],
      "metadata": {
        "colab": {
          "base_uri": "https://localhost:8080/"
        },
        "id": "zmBWX1SbsLi_",
        "outputId": "4e50956e-d0da-44e1-b46d-4b4475c867c9"
      },
      "execution_count": 10,
      "outputs": [
        {
          "output_type": "stream",
          "name": "stdout",
          "text": [
            "{'last': 'Zimmerman', 'first': 'Mr. Leo', 'gender': 'M', 'age': '29', 'class': '3', 'fare': '7.88', 'embarked': 'Southampton', 'survived': 'no'}\n"
          ]
        }
      ]
    },
    {
      "cell_type": "code",
      "execution_count": 22,
      "metadata": {
        "id": "F4LFDLbmoTB_",
        "colab": {
          "base_uri": "https://localhost:8080/"
        },
        "outputId": "f952ec82-dca6-4db8-8ca1-572f4ba5dfb7"
      },
      "outputs": [
        {
          "output_type": "stream",
          "name": "stdout",
          "text": [
            "Número de mujeres casadas por encima de 30 años que embarcaron en Cherbourg: 24\n"
          ]
        }
      ],
      "source": [
        "import csv\n",
        "\n",
        "def count_married_women_above_age_threshold(data_file, threshold_age):\n",
        "    count = 0\n",
        "    with open(data_file, newline='') as csvfile:\n",
        "        reader = csv.DictReader(csvfile)\n",
        "        for row in reader:\n",
        "\n",
        "            if row['gender'] == 'F' and row['age'] != '' and float(row['age']) > threshold_age:\n",
        "\n",
        "                if 'Cherbourg' in row['embarked']:\n",
        "                    count += 1\n",
        "    return count\n",
        "\n",
        "\n",
        "data_file = 'Titanic.csv'\n",
        "age_threshold = 30\n",
        "\n",
        "married_women_count = count_married_women_above_age_threshold(data_file, age_threshold)\n",
        "\n",
        "print(f\"Número de mujeres casadas por encima de {age_threshold} años que embarcaron en Cherbourg: {married_women_count}\")\n",
        "##YOUR CODE HERE"
      ]
    },
    {
      "cell_type": "code",
      "execution_count": 21,
      "metadata": {
        "id": "E_EFSC8poTB_",
        "colab": {
          "base_uri": "https://localhost:8080/"
        },
        "outputId": "7026feca-f69c-473a-ae01-46bcb46b18d3"
      },
      "outputs": [
        {
          "output_type": "stream",
          "name": "stdout",
          "text": [
            "Clase 1: Precio promedio del pasaje por pasajero = $87.96, Edad promedio de pasajeros = 38.23 años\n",
            "Clase 2: Precio promedio del pasaje por pasajero = $21.47, Edad promedio de pasajeros = 29.88 años\n",
            "Clase 3: Precio promedio del pasaje por pasajero = $13.23, Edad promedio de pasajeros = 25.14 años\n"
          ]
        }
      ],
      "source": [
        "import csv\n",
        "\n",
        "def calcular_promedios_por_clase(data_file):\n",
        "    fares_por_clase = {'1': [], '2': [], '3': []}\n",
        "    edades_por_clase = {'1': [], '2': [], '3': []}\n",
        "\n",
        "    with open(data_file, newline='') as csvfile:\n",
        "        reader = csv.DictReader(csvfile)\n",
        "        for row in reader:\n",
        "\n",
        "            if row['fare'] != '' and row['age'] != '':\n",
        "                clase = row['class']\n",
        "                fare = float(row['fare'])\n",
        "                age = float(row['age'])\n",
        "\n",
        "\n",
        "                fares_por_clase[clase].append(fare)\n",
        "                edades_por_clase[clase].append(age)\n",
        "\n",
        "\n",
        "    fares_promedio_por_clase = {clase: sum(fares) / len(fares) for clase, fares in fares_por_clase.items()}\n",
        "\n",
        "\n",
        "    edades_promedio_por_clase = {clase: sum(edades) / len(edades) for clase, edades in edades_por_clase.items()}\n",
        "\n",
        "    return fares_promedio_por_clase, edades_promedio_por_clase\n",
        "\n",
        "\n",
        "data_file = 'Titanic.csv'\n",
        "\n",
        "\n",
        "fares_promedio_por_clase, edades_promedio_por_clase = calcular_promedios_por_clase(data_file)\n",
        "\n",
        "for clase in fares_promedio_por_clase:\n",
        "    print(f\"Clase {clase}: Precio promedio del pasaje por pasajero = ${fares_promedio_por_clase[clase]:.2f}, Edad promedio de pasajeros = {edades_promedio_por_clase[clase]:.2f} años\")\n",
        "##YOUR CODE HERE"
      ]
    },
    {
      "cell_type": "code",
      "execution_count": null,
      "metadata": {
        "id": "CTh3gNizoTB_"
      },
      "outputs": [],
      "source": [
        "# Find the survival rate for passengers in the three different classes,\n",
        "# i.e., what fraction of passengers in each class survived? Also find\n",
        "# the survival rate for males versus females, and for children (age < 18)\n",
        "# versus adults (age >= 18) ignoring passengers whose age is missing.\n",
        "YOUR CODE HERE"
      ]
    },
    {
      "cell_type": "code",
      "execution_count": null,
      "metadata": {
        "id": "B6rQeLmWoTB_"
      },
      "outputs": [],
      "source": [
        "# Find pairs of passengers who are likely to be twin children: same\n",
        "# last name, same age, same embarkation, and age is under 18. Print\n",
        "# each pair once, including their names, age, and mbarkation city.\n",
        "YOUR CODE HERE"
      ]
    }
  ],
  "metadata": {
    "kernelspec": {
      "display_name": "Python 3",
      "language": "python",
      "name": "python3"
    },
    "language_info": {
      "codemirror_mode": {
        "name": "ipython",
        "version": 3
      },
      "file_extension": ".py",
      "mimetype": "text/x-python",
      "name": "python",
      "nbconvert_exporter": "python",
      "pygments_lexer": "ipython3",
      "version": "3.7.6"
    },
    "colab": {
      "provenance": [],
      "include_colab_link": true
    }
  },
  "nbformat": 4,
  "nbformat_minor": 0
}